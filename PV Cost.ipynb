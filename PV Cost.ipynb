{
 "cells": [
  {
   "cell_type": "markdown",
   "metadata": {},
   "source": [
    "Import necessary packages:"
   ]
  },
  {
   "cell_type": "code",
   "execution_count": 1,
   "metadata": {},
   "outputs": [
    {
     "ename": "ModuleNotFoundError",
     "evalue": "No module named 'pandas'",
     "output_type": "error",
     "traceback": [
      "\u001b[0;31m---------------------------------------------------------------------------\u001b[0m",
      "\u001b[0;31mModuleNotFoundError\u001b[0m                       Traceback (most recent call last)",
      "Cell \u001b[0;32mIn[1], line 1\u001b[0m\n\u001b[0;32m----> 1\u001b[0m \u001b[38;5;28;01mimport\u001b[39;00m \u001b[38;5;21;01mpandas\u001b[39;00m \u001b[38;5;28;01mas\u001b[39;00m \u001b[38;5;21;01mpd\u001b[39;00m\n\u001b[1;32m      2\u001b[0m \u001b[38;5;28;01mimport\u001b[39;00m \u001b[38;5;21;01mnumpy\u001b[39;00m \u001b[38;5;28;01mas\u001b[39;00m \u001b[38;5;21;01mnp\u001b[39;00m\n\u001b[1;32m      3\u001b[0m \u001b[38;5;66;03m#import xlsxwriter\u001b[39;00m\n\u001b[1;32m      4\u001b[0m \u001b[38;5;66;03m#import xlrd\u001b[39;00m\n",
      "\u001b[0;31mModuleNotFoundError\u001b[0m: No module named 'pandas'"
     ]
    }
   ],
   "source": [
    "import pandas as pd\n",
    "import numpy as np\n",
    "#import xlsxwriter\n",
    "#import xlrd\n",
    "from io import StringIO as sio\n",
    "import matplotlib.pyplot as mplt\n",
    "from plotnine import ggplot, aes, geom_line, geom_bar, geom_label, facet_grid, geom_point, geom_text, theme, element_rect\n",
    "from plotnine import labs, scale_x_timedelta, scale_x_continuous, scale_y_discrete, annotate, scale_y_continuous\n",
    "from sklearn.linear_model import LinearRegression"
   ]
  },
  {
   "cell_type": "markdown",
   "metadata": {},
   "source": [
    "Import .txt data, rename variables, and convert names to lower case and print head of data."
   ]
  },
  {
   "cell_type": "code",
   "execution_count": null,
   "metadata": {},
   "outputs": [],
   "source": [
    "pvcost = pd.read_csv(\"PV system Cost.txt\",\n",
    "                     sep = \"\\t\",\n",
    "                     skiprows = 6,\n",
    "                     skipfooter = 0,\n",
    "                     index_col = False,\n",
    "                     #names = [\"AV Types\", \"Item\", \"Cost ($)\", \"Panel Height (ft.)\", \"total Cost ($)\"],\n",
    "                     #colspecs= [(0, 13), (14, 23), (24, 32), (33, 51), (51, 70)]\n",
    "                     )\n",
    "pvcost.columns = pvcost.columns.str.lower()\n",
    "pvcost = pvcost.rename(\n",
    "    columns={\n",
    "        \"av types\":\"avtypes\",\n",
    "        \"item\": \"item\",\n",
    "        \"cost ($)\": \"cost\",\n",
    "        \"panel height (ft.)\": \"pheight\",\n",
    "        \"total cost ($)\": \"tcost\"\n",
    "        }\n",
    "    )\n",
    "print(pvcost.head())\n",
    "print(pvcost.tail())"
   ]
  },
  {
   "cell_type": "markdown",
   "metadata": {},
   "source": [
    "Unique values of avtypes variable in pvcost dataframe:"
   ]
  },
  {
   "cell_type": "code",
   "execution_count": null,
   "metadata": {},
   "outputs": [],
   "source": [
    "pvcost['avtypes'].unique()"
   ]
  },
  {
   "cell_type": "markdown",
   "metadata": {},
   "source": [
    "Create a new variables called \"tracker\" based on above unique values of avtypes in pvcost and print some observations to know if trackers are correctly classified."
   ]
  },
  {
   "cell_type": "code",
   "execution_count": null,
   "metadata": {},
   "outputs": [],
   "source": [
    "# Define function to classify values\n",
    "def classify_value(x):\n",
    "    if x == \"Typical Fixed PV\":\n",
    "        return \"Fixed\"\n",
    "    elif x == \"Typical 1-AT PV\":\n",
    "        return \"Tracking\"\n",
    "    elif x == \"Fixed PV + Grazing\":\n",
    "        return \"Fixed\"\n",
    "    elif x == \"Tracker PV + Grazing\":\n",
    "        return \"Tracking\"\n",
    "    elif x == \"Fixed PV + Pollinator\":\n",
    "        return \"Fixed\"\n",
    "    elif x == \"Tracker PV + Pollinator\":\n",
    "        return \"Tracking\"\n",
    "    elif x == \"PV + Crops (Vertical Mount)\":\n",
    "        return \"Fixed\"\n",
    "    elif x == \"PV + Crops (Tracker Stilt Mount)\":\n",
    "        return \"Tracking\"\n",
    "    elif x == \"PV + Crops (Tracker Stilt Mount)\":\n",
    "        return \"Trakcing\"\n",
    "    elif x == \"PV + Crops (Reinforced Regular Mount)\":\n",
    "        return \"Fixed\"\n",
    "    elif x == \"PV + Crops (Tracker Stilt Mount)     \":\n",
    "        return \"Tracking\"\n",
    "    else:\n",
    "        return \"Unclassified\"\n",
    "\n",
    "# Add 'classification' column based on conditions\n",
    "pvcost['tracker'] = pvcost['avtypes'].apply(classify_value)\n",
    "\n",
    "# Display the updated DataFrame\n",
    "#print(pvcost.head())\n",
    "#print(pvcost.tail())\n",
    "print(pvcost.loc[8:16, ] )"
   ]
  },
  {
   "cell_type": "markdown",
   "metadata": {},
   "source": [
    "Basic information about the dataframe:"
   ]
  },
  {
   "cell_type": "code",
   "execution_count": null,
   "metadata": {},
   "outputs": [],
   "source": [
    "# Display basic information about the DataFrame\n",
    "print(\"Dataset Info:\")\n",
    "print(pvcost.info())"
   ]
  },
  {
   "cell_type": "markdown",
   "metadata": {},
   "source": [
    "Descriptive statistics for numerical columns"
   ]
  },
  {
   "cell_type": "code",
   "execution_count": null,
   "metadata": {},
   "outputs": [],
   "source": [
    "# Generate descriptive statistics for numerical columns\n",
    "print(\"Descriptive Statistics:\")\n",
    "print(pvcost.describe().round(2))"
   ]
  },
  {
   "cell_type": "markdown",
   "metadata": {},
   "source": [
    "Cost per item for various tracking system and panel heights."
   ]
  },
  {
   "cell_type": "code",
   "execution_count": null,
   "metadata": {},
   "outputs": [],
   "source": [
    "# Cost per item for Various tracking system and panel heights.\n",
    "(\n",
    "    ggplot(pvcost)\n",
    "    + facet_grid(\"tracker~pheight\")\n",
    "    + aes(y = \"item\",\n",
    "          x = \"cost\",\n",
    "          color=\"tracker\",\n",
    "          group=\"tracker\")\n",
    "    + geom_point()\n",
    "    + geom_line()\n",
    "    + labs(title= \"Cost ($/W) vs Items\",\n",
    "           y = \"Items\",\n",
    "           x = \"Cost ($/W)\")\n",
    ")"
   ]
  },
  {
   "cell_type": "markdown",
   "metadata": {},
   "source": [
    "Total cost for various tracking system and panel heights agrivoltaic systems."
   ]
  },
  {
   "cell_type": "code",
   "execution_count": null,
   "metadata": {},
   "outputs": [],
   "source": [
    "# Total Cost vs Height:\n",
    "(\n",
    "    ggplot(pvcost)\n",
    "    #+ facet_grid(\"tracker~pheight\")\n",
    "    + aes(y = \"pheight\",\n",
    "          x = \"tcost\",\n",
    "          color = \"tracker\",\n",
    "          group = \"tracker\")\n",
    "    + geom_point()\n",
    "    + geom_line()\n",
    "    + labs(title= \"Total Cost ($) vs Height (ft.)\",\n",
    "           y = \"Panel Height (ft.)\",\n",
    "           x = \"Total Cost ($/W)\")\n",
    ")"
   ]
  },
  {
   "cell_type": "markdown",
   "metadata": {},
   "source": [
    "There are more than one observations for same facet in above charts. So, lets narrow them down and create one observation per facet.To do so lets summarize the data and generate some information about the data in successive codes."
   ]
  },
  {
   "cell_type": "code",
   "execution_count": null,
   "metadata": {},
   "outputs": [],
   "source": [
    "avgcost = pvcost.groupby([\"pheight\", \"item\", \"tracker\"])[\"cost\"].mean().reset_index().round(2)\n",
    "#avgcost = pvcost.groupby([\"pheight\", \"item\", \"tracker\"])[\"cost\"].agg(np.mean).reset_index().round(2)\n",
    "avgcost = pd.DataFrame(avgcost)\n",
    "print(avgcost.head())\n",
    "#print(avgcost)"
   ]
  },
  {
   "cell_type": "code",
   "execution_count": null,
   "metadata": {},
   "outputs": [],
   "source": [
    "print(avgcost.describe().round(2))"
   ]
  },
  {
   "cell_type": "code",
   "execution_count": null,
   "metadata": {},
   "outputs": [],
   "source": [
    "print(avgcost.info())"
   ]
  },
  {
   "cell_type": "markdown",
   "metadata": {},
   "source": [
    "Here, we have one observation per facet for one item. Lets make a few plots."
   ]
  },
  {
   "cell_type": "code",
   "execution_count": null,
   "metadata": {},
   "outputs": [],
   "source": [
    "(\n",
    "    ggplot(avgcost)\n",
    "    + facet_grid(\"tracker~pheight\")\n",
    "    + aes(y = \"item\",\n",
    "          x = \"cost\",\n",
    "          color=\"tracker\",\n",
    "          group=\"tracker\")\n",
    "    + geom_point()\n",
    "    + geom_line()\n",
    "    + labs(title= \"Cost ($) vs Items\",\n",
    "           y = \"Items\",\n",
    "           x = \"Cost ($/W)\")\n",
    ")"
   ]
  },
  {
   "cell_type": "code",
   "execution_count": null,
   "metadata": {},
   "outputs": [],
   "source": [
    "totalcost = avgcost.groupby([\"pheight\", \"tracker\"])[\"cost\"].sum().reset_index().round(2)\n",
    "print(totalcost)"
   ]
  },
  {
   "cell_type": "markdown",
   "metadata": {},
   "source": [
    "Predict cost at pheight = 6.4 and tracker = tracking."
   ]
  },
  {
   "cell_type": "code",
   "execution_count": null,
   "metadata": {},
   "outputs": [],
   "source": [
    "totalcost = pd.get_dummies(totalcost, columns=['tracker'], drop_first=True)\n",
    "model = LinearRegression()\n",
    "\n",
    "# Create and fit the model\n",
    "model = LinearRegression()\n",
    "model.fit(totalcost[['pheight', 'tracker_Tracking']], totalcost['cost'])\n",
    "\n",
    "# Predict cost for pheight = 6.4 and tracker = Tracking\n",
    "pheight_value = 6.4\n",
    "tracker_value = 1  # 1 for 'Tracking'\n",
    "\n",
    "predicted_cost = model.predict([[pheight_value, tracker_value]])\n",
    "print(f\"Predicted cost at pheight = {pheight_value} and tracker = 'Tracking': {predicted_cost[0]:.2f}\")\n",
    "\n",
    "predicted_cost = model.predict([[pheight_value, tracker_value]])[0].round(2)\n",
    "\n",
    "# Create a DataFrame for the new row\n",
    "new_row = pd.DataFrame({'pheight': [pheight_value], 'tracker_Tracking': [tracker_value], 'cost': [predicted_cost]})\n",
    "\n",
    "# Append the new row to the original DataFrame using pd.concat\n",
    "totalcost = pd.concat([totalcost, new_row], ignore_index=True)\n",
    "\n",
    "# Convert back to original format\n",
    "totalcost['tracker'] = totalcost['tracker_Tracking'].apply(lambda x: 'Tracking' if x == 1 else 'Fixed')\n",
    "totalcost.drop(columns=['tracker_Tracking'], inplace=True)\n",
    "\n",
    "print(totalcost)"
   ]
  },
  {
   "cell_type": "code",
   "execution_count": null,
   "metadata": {},
   "outputs": [],
   "source": [
    "# Assuming totalcost is your DataFrame\n",
    "totalcost['label'] = totalcost.apply(lambda row: f\"{row['cost']} \", axis=1)\n",
    "plot = (\n",
    "    ggplot(totalcost)\n",
    "    #+ facet_grid(\"tracker~pheight\")\n",
    "    #+ aes(y='cost', x='pheight')\n",
    "    + aes(x = \"pheight\",\n",
    "          y = \"cost\",\n",
    "          color = \"tracker\",\n",
    "          group = \"tracker\")\n",
    "    + geom_point()\n",
    "    + geom_line()\n",
    "    + geom_text(aes(label='label'), \n",
    "                nudge_x=0.05, \n",
    "                nudge_y=0.05, \n",
    "                size=6)\n",
    "    + labs(title=\"CAPEX Cost by Solar Panel Height\",\n",
    "           x=\"Panel Height (ft.)\",\n",
    "           y=\"CAPEX Cost ($/W)\",\n",
    "           color = \"Tracker\")\n",
    "    + scale_x_continuous(limits=(4.5, 8.5))\n",
    "    + scale_y_continuous(limits=(1.5, 2.5))\n",
    "    + theme(panel_background = element_rect(fill = \"white\"),\n",
    "            plot_background = element_rect(fill = \"lightgrey\"))\n",
    ")\n",
    "# Display the plot\n",
    "plot.show()"
   ]
  }
 ],
 "metadata": {
  "kernelspec": {
   "display_name": "Python 3",
   "language": "python",
   "name": "python3"
  },
  "language_info": {
   "codemirror_mode": {
    "name": "ipython",
    "version": 3
   },
   "file_extension": ".py",
   "mimetype": "text/x-python",
   "name": "python",
   "nbconvert_exporter": "python",
   "pygments_lexer": "ipython3",
   "version": "3.9.6"
  }
 },
 "nbformat": 4,
 "nbformat_minor": 2
}
