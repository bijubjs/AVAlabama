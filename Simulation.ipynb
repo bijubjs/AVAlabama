{
  "cells": [
    {
      "cell_type": "markdown",
      "id": "c34be87c-40ab-4a6b-8b3e-664bdbd72983",
      "metadata": {},
      "source": [
        "# Choice Paper\n",
        "\n",
        "Bijesh Mishra, Ph.D.\n",
        "\n",
        "Techno-economic analysis of agrivoltaic systems in Alabama. A paper for\n",
        "<a href=\"https://www.aaea.org/publications/choices-magazine\"\n",
        "class=\"uri\">Choice Magazine</a> by AAEA.\n",
        "\n",
        "# 1. Setting Up\n",
        "\n",
        "## 1.1 Housekeeping"
      ]
    },
    {
      "cell_type": "code",
      "execution_count": null,
      "id": "cd546c71-9ff3-4210-8edd-cd8833a2b333",
      "metadata": {
        "vscode": {
          "languageId": "r"
        }
      },
      "outputs": [
        {
          "ename": "",
          "evalue": "",
          "output_type": "error",
          "traceback": [
            "\u001b[1;31mFailed to start the Kernel. \n",
            "\u001b[1;31mdyld[3726]: Library not loaded: @rpath/libreadline.6.2.dylib\n",
            "\u001b[1;31m  Referenced from: <185433D7-8B40-31AA-8BD9-465D23C57257> /opt/anaconda3/lib/R/lib/libR.dylib\n",
            "\u001b[1;31m  Reason: tried: '/opt/anaconda3/lib/R/lib/../../libreadline.6.2.dylib' (no such file), '/opt/anaconda3/lib/R/bin/exec/../../../libreadline.6.2.dylib' (no such file), '/opt/anaconda3/lib/R/bin/exec/../../../libreadline.6.2.dylib' (no such file), '/opt/anaconda3/lib/R/lib/libreadline.6.2.dylib' (no such file), '/opt/anaconda3/lib/libreadline.6.2.dylib' (no such file), '/opt/anaconda3/libreadline.6.2.dylib' (no such file). \n",
            "\u001b[1;31mView Jupyter <a href='command:jupyter.viewOutput'>log</a> for further details."
          ]
        }
      ],
      "source": [
        "# #| echo: TRUE\n",
        "rm(list = ls()) # Clean the environment.\n",
        "options(\n",
        "  warn=0, # Warnings. options(warn=-1) / options(warn=0)\n",
        "  scipen=999 # No scientific notations.\n",
        "  )"
      ]
    },
    {
      "cell_type": "markdown",
      "id": "d85e69fe-e77f-4886-a065-6e888a8d1e11",
      "metadata": {},
      "source": [
        "## 1.2 Working directory\n",
        "\n",
        "Codes and output are suppressed. Errors and warnings are visible. No\n",
        "warning and no error means code is working as it should.\n",
        "\n",
        "## 1.3 Load libraries"
      ]
    },
    {
      "cell_type": "code",
      "execution_count": null,
      "id": "d5eda1c5-7bff-4efc-9cbd-c381cb9be8df",
      "metadata": {
        "vscode": {
          "languageId": "r"
        }
      },
      "outputs": [
        {
          "ename": "",
          "evalue": "",
          "output_type": "error",
          "traceback": [
            "\u001b[1;31mFailed to start the Kernel. \n",
            "\u001b[1;31mdyld[3726]: Library not loaded: @rpath/libreadline.6.2.dylib\n",
            "\u001b[1;31m  Referenced from: <185433D7-8B40-31AA-8BD9-465D23C57257> /opt/anaconda3/lib/R/lib/libR.dylib\n",
            "\u001b[1;31m  Reason: tried: '/opt/anaconda3/lib/R/lib/../../libreadline.6.2.dylib' (no such file), '/opt/anaconda3/lib/R/bin/exec/../../../libreadline.6.2.dylib' (no such file), '/opt/anaconda3/lib/R/bin/exec/../../../libreadline.6.2.dylib' (no such file), '/opt/anaconda3/lib/R/lib/libreadline.6.2.dylib' (no such file), '/opt/anaconda3/lib/libreadline.6.2.dylib' (no such file), '/opt/anaconda3/libreadline.6.2.dylib' (no such file). \n",
            "\u001b[1;31mView Jupyter <a href='command:jupyter.viewOutput'>log</a> for further details."
          ]
        }
      ],
      "source": [
        "library(tidyverse, warn.conflicts = FALSE, quietly = TRUE)"
      ]
    },
    {
      "cell_type": "code",
      "execution_count": null,
      "id": "d9fb78d8-25c1-4207-818b-4edaa5a4d694",
      "metadata": {
        "vscode": {
          "languageId": "r"
        }
      },
      "outputs": [
        {
          "ename": "",
          "evalue": "",
          "output_type": "error",
          "traceback": [
            "\u001b[1;31mFailed to start the Kernel. \n",
            "\u001b[1;31mdyld[3726]: Library not loaded: @rpath/libreadline.6.2.dylib\n",
            "\u001b[1;31m  Referenced from: <185433D7-8B40-31AA-8BD9-465D23C57257> /opt/anaconda3/lib/R/lib/libR.dylib\n",
            "\u001b[1;31m  Reason: tried: '/opt/anaconda3/lib/R/lib/../../libreadline.6.2.dylib' (no such file), '/opt/anaconda3/lib/R/bin/exec/../../../libreadline.6.2.dylib' (no such file), '/opt/anaconda3/lib/R/bin/exec/../../../libreadline.6.2.dylib' (no such file), '/opt/anaconda3/lib/R/lib/libreadline.6.2.dylib' (no such file), '/opt/anaconda3/lib/libreadline.6.2.dylib' (no such file), '/opt/anaconda3/libreadline.6.2.dylib' (no such file). \n",
            "\u001b[1;31mView Jupyter <a href='command:jupyter.viewOutput'>log</a> for further details."
          ]
        }
      ],
      "source": [
        "pacman::p_loaded()"
      ]
    },
    {
      "cell_type": "markdown",
      "id": "b4d7effe-f6a4-4f46-95f3-88d115c7ca18",
      "metadata": {},
      "source": [
        "## 1.4 Progress Bar\n",
        "\n",
        "Tracking data processing progress."
      ]
    },
    {
      "cell_type": "code",
      "execution_count": null,
      "id": "4289266d-e7bb-41d3-ae47-270abb741f0d",
      "metadata": {
        "vscode": {
          "languageId": "r"
        }
      },
      "outputs": [
        {
          "ename": "",
          "evalue": "",
          "output_type": "error",
          "traceback": [
            "\u001b[1;31mFailed to start the Kernel. \n",
            "\u001b[1;31mdyld[3726]: Library not loaded: @rpath/libreadline.6.2.dylib\n",
            "\u001b[1;31m  Referenced from: <185433D7-8B40-31AA-8BD9-465D23C57257> /opt/anaconda3/lib/R/lib/libR.dylib\n",
            "\u001b[1;31m  Reason: tried: '/opt/anaconda3/lib/R/lib/../../libreadline.6.2.dylib' (no such file), '/opt/anaconda3/lib/R/bin/exec/../../../libreadline.6.2.dylib' (no such file), '/opt/anaconda3/lib/R/bin/exec/../../../libreadline.6.2.dylib' (no such file), '/opt/anaconda3/lib/R/lib/libreadline.6.2.dylib' (no such file), '/opt/anaconda3/lib/libreadline.6.2.dylib' (no such file), '/opt/anaconda3/libreadline.6.2.dylib' (no such file). \n",
            "\u001b[1;31mView Jupyter <a href='command:jupyter.viewOutput'>log</a> for further details."
          ]
        }
      ],
      "source": [
        "####### Progress Bar #####\n",
        "pb = progress_bar$new(\n",
        "  format = \"Processing data at :rate. Processed :bytes in :elapsed.\",\n",
        "  clear = TRUE,\n",
        "  total = NA, \n",
        "  width = 80)\n",
        "f = function() {\n",
        "  for (i in 1:100) {\n",
        "    pb$tick(sample(1:100 * 1000, 1))\n",
        "    Sys.sleep(2/100)\n",
        "  }\n",
        "  pb$tick(1e7)\n",
        "  #invisible()\n",
        "}"
      ]
    },
    {
      "cell_type": "markdown",
      "id": "dfc04d73-304b-41b8-b6de-81fc8deb2a6a",
      "metadata": {},
      "source": [
        "## 1.5 Theme for plots\n",
        "\n",
        "Setting theme for plots:"
      ]
    },
    {
      "cell_type": "code",
      "execution_count": null,
      "id": "4116f160-4311-4080-bfb0-b55fcd4b98c8",
      "metadata": {
        "vscode": {
          "languageId": "r"
        }
      },
      "outputs": [
        {
          "ename": "",
          "evalue": "",
          "output_type": "error",
          "traceback": [
            "\u001b[1;31mFailed to start the Kernel. \n",
            "\u001b[1;31mdyld[3726]: Library not loaded: @rpath/libreadline.6.2.dylib\n",
            "\u001b[1;31m  Referenced from: <185433D7-8B40-31AA-8BD9-465D23C57257> /opt/anaconda3/lib/R/lib/libR.dylib\n",
            "\u001b[1;31m  Reason: tried: '/opt/anaconda3/lib/R/lib/../../libreadline.6.2.dylib' (no such file), '/opt/anaconda3/lib/R/bin/exec/../../../libreadline.6.2.dylib' (no such file), '/opt/anaconda3/lib/R/bin/exec/../../../libreadline.6.2.dylib' (no such file), '/opt/anaconda3/lib/R/lib/libreadline.6.2.dylib' (no such file), '/opt/anaconda3/lib/libreadline.6.2.dylib' (no such file), '/opt/anaconda3/libreadline.6.2.dylib' (no such file). \n",
            "\u001b[1;31mView Jupyter <a href='command:jupyter.viewOutput'>log</a> for further details."
          ]
        }
      ],
      "source": [
        "####### Plotting Data: #####\n",
        "# Map Theme:\n",
        "plottheme <- ggplot() +\n",
        "  theme_void() +\n",
        "  # Mapping theme:\n",
        "  theme(axis.title = element_blank(),\n",
        "        axis.ticks = element_blank(),\n",
        "        axis.text = element_blank(),\n",
        "        panel.border = element_blank(),\n",
        "        plot.margin = margin(t = 0, \n",
        "                             r = 0, \n",
        "                             b = 0, \n",
        "                             l = 0, \n",
        "                             unit = \"cm\"),\n",
        "        plot.title = element_text(hjust = 0.5),\n",
        "        plot.background = element_rect(fill = \"white\", \n",
        "                                       color = \"black\",\n",
        "                                       linewidth = 0),\n",
        "        panel.background = element_rect(fill = \"white\", \n",
        "                                        color = \"black\",\n",
        "                                        linewidth = 0),\n",
        "        panel.grid.major.x = element_line(color = \"lightgrey\",\n",
        "                                          linetype = 2,\n",
        "                                          linewidth = 0),\n",
        "        panel.grid.minor.x = element_line(color = \"lightgrey\",\n",
        "                                          linetype = 2,\n",
        "                                          linewidth = 0),\n",
        "        panel.grid.major.y = element_line(color = \"grey\",\n",
        "                                          linetype = 2,\n",
        "                                          linewidth = 0),\n",
        "        panel.grid.minor.y = element_line(color = \"grey\",\n",
        "                                          linetype = 2,\n",
        "                                          linewidth = 0),\n",
        "        axis.line.x.top = element_line(color = \"white\",\n",
        "                                       linetype = 2,\n",
        "                                       linewidth = 0),\n",
        "        axis.line.y.right = element_line(color = \"white\",\n",
        "                                         linetype = 2,\n",
        "                                         linewidth = 0),\n",
        "        axis.line.x.bottom = element_line(color = \"black\",\n",
        "                                          linetype = 1,\n",
        "                                          linewidth = 0),\n",
        "        axis.line.y.left = element_line(color = \"black\",\n",
        "                                        linetype = 1,\n",
        "                                        linewidth = 0),\n",
        "        # Text formatting:\n",
        "        text = element_text(family = \"serif\", # font\n",
        "                            size = 12, # font size\n",
        "                            colour = \"black\"# font color\n",
        "        ),\n",
        "        legend.position = c(0.95, -0.05),\n",
        "        legend.key = element_rect(color = \"black\", \n",
        "                                  fill = NA, \n",
        "                                  linewidth = 0.05, \n",
        "                                  linetype = 1),\n",
        "        legend.justification = \"right\",\n",
        "        legend.direction = \"horizontal\")"
      ]
    },
    {
      "cell_type": "markdown",
      "id": "d061c119-c98e-4e27-89dd-6cbf86a41006",
      "metadata": {},
      "source": [
        "# 2. Import data\n",
        "\n",
        "Import necessary data.\n",
        "\n",
        "## 2.1 Tomato\n",
        "\n",
        "-   Yield = Total tomato production (total bucket of 25 lb) from 1 acres\n",
        "    of land which varies from 10% to 200% of total production (100%).\n",
        "    The range was simulated by multiplying 100% yield by yldvar.\n",
        "\n",
        "-   yldvar = Yield variation parameter ranges from 10% to 200%.\n",
        "\n",
        "-   Rev17 to Rev23 = Revenue for price ranges of \\$17 to \\$23 per bucket\n",
        "    of tomato.\n",
        "\n",
        "-   Total cost = Total cost of production for the given yield.\n",
        "\n",
        "-   rolac17 to rolac23= Return to operator, labor and capital for price\n",
        "    range of \\$17 to \\$23.\n",
        "\n",
        "-   operator Cost = Operator labor cost at \\$15/hour for given yield.\n",
        "    For 100% yield, total hours = 90.\n",
        "\n",
        "-   rlc17 to 23 = Return to land and capital after subtracting operator\n",
        "    cost from total revenue."
      ]
    },
    {
      "cell_type": "code",
      "execution_count": null,
      "id": "446c6982-dc6a-437b-82e8-85d4b813524d",
      "metadata": {
        "vscode": {
          "languageId": "r"
        }
      },
      "outputs": [
        {
          "ename": "",
          "evalue": "",
          "output_type": "error",
          "traceback": [
            "\u001b[1;31mFailed to start the Kernel. \n",
            "\u001b[1;31mdyld[3726]: Library not loaded: @rpath/libreadline.6.2.dylib\n",
            "\u001b[1;31m  Referenced from: <185433D7-8B40-31AA-8BD9-465D23C57257> /opt/anaconda3/lib/R/lib/libR.dylib\n",
            "\u001b[1;31m  Reason: tried: '/opt/anaconda3/lib/R/lib/../../libreadline.6.2.dylib' (no such file), '/opt/anaconda3/lib/R/bin/exec/../../../libreadline.6.2.dylib' (no such file), '/opt/anaconda3/lib/R/bin/exec/../../../libreadline.6.2.dylib' (no such file), '/opt/anaconda3/lib/R/lib/libreadline.6.2.dylib' (no such file), '/opt/anaconda3/lib/libreadline.6.2.dylib' (no such file), '/opt/anaconda3/libreadline.6.2.dylib' (no such file). \n",
            "\u001b[1;31mView Jupyter <a href='command:jupyter.viewOutput'>log</a> for further details."
          ]
        }
      ],
      "source": [
        "tomato <- read_xlsx(\"Parameters.xlsx\",\n",
        "                    sheet = \"Tomato\",\n",
        "                    start_row = 2,\n",
        "                    start_col = 9,\n",
        "                    skip_empty_rows = TRUE,\n",
        "                    skip_empty_cols = TRUE,\n",
        "                    col_names = TRUE) %>% \n",
        "  rename(yield = Yield,\n",
        "         yldvar = `Yield Variation (%)`)\n",
        "dim(tomato)"
      ]
    },
    {
      "cell_type": "markdown",
      "id": "50210abd-fb21-4107-ab56-9e0a953ef6db",
      "metadata": {},
      "source": [
        "## 2.2 Strawberry\n",
        "\n",
        "-   Everything same as tomato.\n",
        "\n",
        "-   Numbers 3 to 9 in names are price ranges for strawberry."
      ]
    },
    {
      "cell_type": "code",
      "execution_count": null,
      "id": "c8da67d5-c10f-40e8-bb4f-7c9dfeedcd17",
      "metadata": {
        "vscode": {
          "languageId": "r"
        }
      },
      "outputs": [
        {
          "ename": "",
          "evalue": "",
          "output_type": "error",
          "traceback": [
            "\u001b[1;31mFailed to start the Kernel. \n",
            "\u001b[1;31mdyld[3726]: Library not loaded: @rpath/libreadline.6.2.dylib\n",
            "\u001b[1;31m  Referenced from: <185433D7-8B40-31AA-8BD9-465D23C57257> /opt/anaconda3/lib/R/lib/libR.dylib\n",
            "\u001b[1;31m  Reason: tried: '/opt/anaconda3/lib/R/lib/../../libreadline.6.2.dylib' (no such file), '/opt/anaconda3/lib/R/bin/exec/../../../libreadline.6.2.dylib' (no such file), '/opt/anaconda3/lib/R/bin/exec/../../../libreadline.6.2.dylib' (no such file), '/opt/anaconda3/lib/R/lib/libreadline.6.2.dylib' (no such file), '/opt/anaconda3/lib/libreadline.6.2.dylib' (no such file), '/opt/anaconda3/libreadline.6.2.dylib' (no such file). \n",
            "\u001b[1;31mView Jupyter <a href='command:jupyter.viewOutput'>log</a> for further details."
          ]
        }
      ],
      "source": [
        "strawberry <- read_xlsx(\"Parameters.xlsx\",\n",
        "                        sheet = \"Strawberry\",\n",
        "                        start_row = 2,\n",
        "                        start_col = 7,\n",
        "                        skip_empty_rows = TRUE,\n",
        "                        skip_empty_cols = TRUE,\n",
        "                        col_names = TRUE) %>% \n",
        "  rename(yield = Yield,\n",
        "         yldvar = `Yield Variation (%)`)\n",
        "dim(strawberry)"
      ]
    },
    {
      "cell_type": "markdown",
      "id": "805ac485-8e19-4245-8dbb-061bf35d2846",
      "metadata": {},
      "source": [
        "## 2.3 Squash\n",
        "\n",
        "-   Everything same as tomato and strawberry.\n",
        "\n",
        "-   Numbers 11 to 17 in names are price ranges for squash."
      ]
    },
    {
      "cell_type": "code",
      "execution_count": null,
      "id": "d8d1d4e2-9a66-4898-9c96-5e2f7e739b1d",
      "metadata": {
        "vscode": {
          "languageId": "r"
        }
      },
      "outputs": [
        {
          "ename": "",
          "evalue": "",
          "output_type": "error",
          "traceback": [
            "\u001b[1;31mFailed to start the Kernel. \n",
            "\u001b[1;31mdyld[3726]: Library not loaded: @rpath/libreadline.6.2.dylib\n",
            "\u001b[1;31m  Referenced from: <185433D7-8B40-31AA-8BD9-465D23C57257> /opt/anaconda3/lib/R/lib/libR.dylib\n",
            "\u001b[1;31m  Reason: tried: '/opt/anaconda3/lib/R/lib/../../libreadline.6.2.dylib' (no such file), '/opt/anaconda3/lib/R/bin/exec/../../../libreadline.6.2.dylib' (no such file), '/opt/anaconda3/lib/R/bin/exec/../../../libreadline.6.2.dylib' (no such file), '/opt/anaconda3/lib/R/lib/libreadline.6.2.dylib' (no such file), '/opt/anaconda3/lib/libreadline.6.2.dylib' (no such file), '/opt/anaconda3/libreadline.6.2.dylib' (no such file). \n",
            "\u001b[1;31mView Jupyter <a href='command:jupyter.viewOutput'>log</a> for further details."
          ]
        }
      ],
      "source": [
        "squash <- read_xlsx(\"Parameters.xlsx\",\n",
        "                    sheet = \"Squash\",\n",
        "                    start_row = 2,\n",
        "                    start_col = 8,\n",
        "                    skip_empty_rows = TRUE,\n",
        "                    skip_empty_cols = TRUE,\n",
        "                    col_names = TRUE) %>% \n",
        "  rename(yield = Yield,\n",
        "         yldvar = `Yield Variation (%)`)\n",
        "dim(squash)"
      ]
    },
    {
      "cell_type": "markdown",
      "id": "bd2c8f4e-0d54-4bfa-a21c-c8fe226c96ff",
      "metadata": {},
      "source": [
        "## 2.4 Electricity price\n",
        "\n",
        "Electricity price ranges from 1 cents to 6 cents in 0.5 cent increment.\n",
        "Previously, I used AL retail electricity price as described below. It’s\n",
        "no longer in use but I description below here for the record.\n",
        "\n",
        "Electricity price (\\$/kWh) was retail electricity price range for\n",
        "Alabama based on retail electricity price in April 2023 and April 2024\n",
        "taken from [DOE\n",
        "Database](https://www.eia.gov/electricity/monthly/epm_table_grapher.php?t=epmt_5_6_a).\n",
        "Retail electricity price range in Alabama was from 6.44 to 15.85\n",
        "cents/kWh in April 2023 and April 2024 which represents industry,\n",
        "commercial, and residential prices."
      ]
    },
    {
      "cell_type": "code",
      "execution_count": null,
      "id": "c3311b56-2631-4374-a657-78b89f7130fa",
      "metadata": {
        "vscode": {
          "languageId": "r"
        }
      },
      "outputs": [
        {
          "ename": "",
          "evalue": "",
          "output_type": "error",
          "traceback": [
            "\u001b[1;31mFailed to start the Kernel. \n",
            "\u001b[1;31mdyld[3726]: Library not loaded: @rpath/libreadline.6.2.dylib\n",
            "\u001b[1;31m  Referenced from: <185433D7-8B40-31AA-8BD9-465D23C57257> /opt/anaconda3/lib/R/lib/libR.dylib\n",
            "\u001b[1;31m  Reason: tried: '/opt/anaconda3/lib/R/lib/../../libreadline.6.2.dylib' (no such file), '/opt/anaconda3/lib/R/bin/exec/../../../libreadline.6.2.dylib' (no such file), '/opt/anaconda3/lib/R/bin/exec/../../../libreadline.6.2.dylib' (no such file), '/opt/anaconda3/lib/R/lib/libreadline.6.2.dylib' (no such file), '/opt/anaconda3/lib/libreadline.6.2.dylib' (no such file), '/opt/anaconda3/libreadline.6.2.dylib' (no such file). \n",
            "\u001b[1;31mView Jupyter <a href='command:jupyter.viewOutput'>log</a> for further details."
          ]
        }
      ],
      "source": [
        "elec_price <- read_xlsx(\"Parameters.xlsx\",\n",
        "                              sheet = \"Electricity Price\") %>%\n",
        "  rename(epr_kwh = `Electricity Price ($/kWh)`)\n",
        "dim(elec_price)"
      ]
    },
    {
      "cell_type": "markdown",
      "id": "83e705f3-5d4b-49d5-ad26-a36c7c964daa",
      "metadata": {},
      "source": [
        "## 2.5 PV system cost\n",
        "\n",
        "-   Data taken from\n",
        "    “<a href=\"https://www.nrel.gov/docs/fy21osti/77811.pdf\"\n",
        "    class=\"uri\">Capital Costs for Dual-Use Photovoltaic Installations: 2020\n",
        "    Benchmark</a>” Table 1 and Figure 3.\n",
        "-   This data was used to estimate CAPEX.\n",
        "-   avtyps = agrivoltaic types.\n",
        "-   item = itemized component of system.\n",
        "-   cost = cost of each item.\n",
        "-   height = ground to panel clearance height (ft.)\n",
        "-   tcost = Total cost is the sum of all itemized cost for AV system.\n",
        "    See figure 3 and table 1 in above document for more detail."
      ]
    },
    {
      "cell_type": "code",
      "execution_count": null,
      "id": "d48f22a1-67c0-4839-85f0-37eb63d92634",
      "metadata": {
        "vscode": {
          "languageId": "r"
        }
      },
      "outputs": [
        {
          "ename": "",
          "evalue": "",
          "output_type": "error",
          "traceback": [
            "\u001b[1;31mFailed to start the Kernel. \n",
            "\u001b[1;31mdyld[3726]: Library not loaded: @rpath/libreadline.6.2.dylib\n",
            "\u001b[1;31m  Referenced from: <185433D7-8B40-31AA-8BD9-465D23C57257> /opt/anaconda3/lib/R/lib/libR.dylib\n",
            "\u001b[1;31m  Reason: tried: '/opt/anaconda3/lib/R/lib/../../libreadline.6.2.dylib' (no such file), '/opt/anaconda3/lib/R/bin/exec/../../../libreadline.6.2.dylib' (no such file), '/opt/anaconda3/lib/R/bin/exec/../../../libreadline.6.2.dylib' (no such file), '/opt/anaconda3/lib/R/lib/libreadline.6.2.dylib' (no such file), '/opt/anaconda3/lib/libreadline.6.2.dylib' (no such file), '/opt/anaconda3/libreadline.6.2.dylib' (no such file). \n",
            "\u001b[1;31mView Jupyter <a href='command:jupyter.viewOutput'>log</a> for further details."
          ]
        }
      ],
      "source": [
        "pvsc <- wb_read(file = \"Parameters.xlsx\",\n",
        "                sheet = \"PV system Cost (NREL)\",\n",
        "                rows = c(1:109),\n",
        "                cols = c(1:5),\n",
        "                col_names = TRUE) %>%\n",
        "  rename(avtyps = `AV Types`,\n",
        "         item = Item,\n",
        "         cost = `Cost ($/W)`,\n",
        "         height = `Panel Height (ft.)`,\n",
        "         tcost = `Total Cost ($/W)`)\n",
        "dim(pvsc)"
      ]
    },
    {
      "cell_type": "markdown",
      "id": "b50d1f85-b644-4a1d-87c3-65be026b83a2",
      "metadata": {},
      "source": [
        "## 2.6 Capex (NREL)\n",
        "\n",
        "Variable Descriptions:\n",
        "\n",
        "-   Capex: Capital investment cost (\\$/W) to develop solar energy\n",
        "    system. Capex includes cost of physical structure, developer’s\n",
        "    overhead and EPC/Developer’s net profit.\n",
        "\n",
        "-   capex estimated as f(height, tracker) using OLS for 6.4 ft Tracking\n",
        "    system.\n",
        "\n",
        "-   Height = ground to panel clearance in ft.\n",
        "\n",
        "-   array: Solar array. Tracker = Single axis sun tracking panels; Fixed\n",
        "    = Non-tracking panels."
      ]
    },
    {
      "cell_type": "code",
      "execution_count": null,
      "id": "56b8e692-c11a-47ee-bda4-0e4c95ca1cee",
      "metadata": {
        "vscode": {
          "languageId": "r"
        }
      },
      "outputs": [
        {
          "ename": "",
          "evalue": "",
          "output_type": "error",
          "traceback": [
            "\u001b[1;31mFailed to start the Kernel. \n",
            "\u001b[1;31mdyld[3726]: Library not loaded: @rpath/libreadline.6.2.dylib\n",
            "\u001b[1;31m  Referenced from: <185433D7-8B40-31AA-8BD9-465D23C57257> /opt/anaconda3/lib/R/lib/libR.dylib\n",
            "\u001b[1;31m  Reason: tried: '/opt/anaconda3/lib/R/lib/../../libreadline.6.2.dylib' (no such file), '/opt/anaconda3/lib/R/bin/exec/../../../libreadline.6.2.dylib' (no such file), '/opt/anaconda3/lib/R/bin/exec/../../../libreadline.6.2.dylib' (no such file), '/opt/anaconda3/lib/R/lib/libreadline.6.2.dylib' (no such file), '/opt/anaconda3/lib/libreadline.6.2.dylib' (no such file), '/opt/anaconda3/libreadline.6.2.dylib' (no such file). \n",
            "\u001b[1;31mView Jupyter <a href='command:jupyter.viewOutput'>log</a> for further details."
          ]
        }
      ],
      "source": [
        "capex <- read.table(file = \"CAPEX.txt\",\n",
        "                    header = TRUE,\n",
        "                  sep = \"\\t\") %>% \n",
        "  rename(capex = cost,\n",
        "         height = pheight,\n",
        "         array = tracker)\n",
        "dim(capex)"
      ]
    },
    {
      "cell_type": "markdown",
      "id": "507df21a-db59-4009-bd6a-69e4550ad58b",
      "metadata": {},
      "source": [
        "### 2.6.1 Plotting capex"
      ]
    },
    {
      "cell_type": "code",
      "execution_count": null,
      "id": "66eb4486-09ac-4c3b-b708-b1f20f7b6971",
      "metadata": {
        "vscode": {
          "languageId": "r"
        }
      },
      "outputs": [
        {
          "ename": "",
          "evalue": "",
          "output_type": "error",
          "traceback": [
            "\u001b[1;31mFailed to start the Kernel. \n",
            "\u001b[1;31mdyld[3726]: Library not loaded: @rpath/libreadline.6.2.dylib\n",
            "\u001b[1;31m  Referenced from: <185433D7-8B40-31AA-8BD9-465D23C57257> /opt/anaconda3/lib/R/lib/libR.dylib\n",
            "\u001b[1;31m  Reason: tried: '/opt/anaconda3/lib/R/lib/../../libreadline.6.2.dylib' (no such file), '/opt/anaconda3/lib/R/bin/exec/../../../libreadline.6.2.dylib' (no such file), '/opt/anaconda3/lib/R/bin/exec/../../../libreadline.6.2.dylib' (no such file), '/opt/anaconda3/lib/R/lib/libreadline.6.2.dylib' (no such file), '/opt/anaconda3/lib/libreadline.6.2.dylib' (no such file), '/opt/anaconda3/libreadline.6.2.dylib' (no such file). \n",
            "\u001b[1;31mView Jupyter <a href='command:jupyter.viewOutput'>log</a> for further details."
          ]
        }
      ],
      "source": [
        "plottheme %>% ggplot(data = capex,\n",
        "                     mapping = (aes(\n",
        "                       x = height,\n",
        "                       y = capex,\n",
        "                       color = array,\n",
        "                       group = array))) +\n",
        "  geom_point() +\n",
        "  geom_line() +\n",
        "  # geom_text(aes(label = \"Tracker\"),\n",
        "  #           nudge_x = 0.05,\n",
        "  #           nudge_y = 0.05,\n",
        "  #           size = 6) +\n",
        "  labs(\n",
        "    title = \"CAPEX Cost by Solar Panel Height\",\n",
        "    x = \"Panel Height (ft.)\",\n",
        "    y = \"CAPEX Cost ($/W)\",\n",
        "    color = \"Array\"\n",
        "    ) +\n",
        "  scale_x_continuous(limits = c(4.5, 8.5)) +\n",
        "  scale_y_continuous(limits = c(1.5, 2.5)) +\n",
        "  guides(color = guide_legend(reverse = TRUE))"
      ]
    },
    {
      "cell_type": "markdown",
      "id": "85a2cffd-4ec5-4ed5-9245-db07dcd16063",
      "metadata": {},
      "source": [
        "## 2.7 Panel Configuration\n",
        "\n",
        "-   Panel configuration and DV system output (W)."
      ]
    },
    {
      "cell_type": "code",
      "execution_count": null,
      "id": "6cb687d8-dd13-4351-a500-a555c662c9ff",
      "metadata": {
        "vscode": {
          "languageId": "r"
        }
      },
      "outputs": [
        {
          "ename": "",
          "evalue": "",
          "output_type": "error",
          "traceback": [
            "\u001b[1;31mFailed to start the Kernel. \n",
            "\u001b[1;31mdyld[3726]: Library not loaded: @rpath/libreadline.6.2.dylib\n",
            "\u001b[1;31m  Referenced from: <185433D7-8B40-31AA-8BD9-465D23C57257> /opt/anaconda3/lib/R/lib/libR.dylib\n",
            "\u001b[1;31m  Reason: tried: '/opt/anaconda3/lib/R/lib/../../libreadline.6.2.dylib' (no such file), '/opt/anaconda3/lib/R/bin/exec/../../../libreadline.6.2.dylib' (no such file), '/opt/anaconda3/lib/R/bin/exec/../../../libreadline.6.2.dylib' (no such file), '/opt/anaconda3/lib/R/lib/libreadline.6.2.dylib' (no such file), '/opt/anaconda3/lib/libreadline.6.2.dylib' (no such file), '/opt/anaconda3/libreadline.6.2.dylib' (no such file). \n",
            "\u001b[1;31mView Jupyter <a href='command:jupyter.viewOutput'>log</a> for further details."
          ]
        }
      ],
      "source": [
        "panconf <- wb_read(file = \"Parameters.xlsx\",\n",
        "                sheet = \"Panel Spacing\",\n",
        "                start_row = 2,\n",
        "                start_col = 1,\n",
        "                skip_empty_rows = TRUE,\n",
        "                skip_empty_cols = TRUE,\n",
        "                col_names = TRUE)\n",
        "  # rename(avtyps = `AV Types`,\n",
        "  #        item = Item,\n",
        "  #        cost = `Cost ($/W)`,\n",
        "  #        height = `Panel Height (ft.)`,\n",
        "  #        tcost = `Total Cost ($/W)`)\n",
        "dim(panconf)"
      ]
    },
    {
      "cell_type": "markdown",
      "id": "3e7844a5-5b0a-4e24-9de3-c6dbc2337aa2",
      "metadata": {},
      "source": [
        "## 2.8 Energy output\n",
        "\n",
        "Energy output was simulated using NREL\n",
        "<a href=\"https://pvwatts.nrel.gov/pvwatts.php\" class=\"uri\">PV Watts\n",
        "Calculator</a>.\n",
        "\n",
        "-   sprop = land proportion covered by solar in 1 acres. Value ranges\n",
        "    from 0 to 1.\n",
        "\n",
        "-   Panels = Total number of panels in 1 acres of land.\n",
        "\n",
        "-   datalot: 1 = first simulation done for four regions of AL; 2 =\n",
        "    second simulation done for four regions of AL. Two simulations have\n",
        "    two unique zipcodes for each simulated region.\n",
        "\n",
        "-   al_regs = regions of Alabama\n",
        "\n",
        "-   zips = zipcodes selected from each region of AL for simulation.\n",
        "\n",
        "-   array = Fixed (open rack); 1AxisRot = 1 Axis Tracking. See above\n",
        "    NREL tool for more detail.\n",
        "\n",
        "-   dc_kw = DC system size, calculated for each solar panel heights\n",
        "    considering solar panels efficiency and area covered by solar\n",
        "    panels.\n",
        "\n",
        "-   energy = total energy output ( kWh/Year) considering system\n",
        "    parameters. Total hours considered by the model is 8,760 (See\n",
        "    <a href=\"https://pvwatts.nrel.gov/pvwatts.php\" class=\"uri\">PV Watts\n",
        "    Calculator</a> Results \\> help (below the result) \\> results \\>\n",
        "    download monthly or hourly results)."
      ]
    },
    {
      "cell_type": "code",
      "execution_count": null,
      "id": "daf361c5-8c02-4e69-af62-40f33eca1dba",
      "metadata": {
        "vscode": {
          "languageId": "r"
        }
      },
      "outputs": [
        {
          "ename": "",
          "evalue": "",
          "output_type": "error",
          "traceback": [
            "\u001b[1;31mFailed to start the Kernel. \n",
            "\u001b[1;31mdyld[3726]: Library not loaded: @rpath/libreadline.6.2.dylib\n",
            "\u001b[1;31m  Referenced from: <185433D7-8B40-31AA-8BD9-465D23C57257> /opt/anaconda3/lib/R/lib/libR.dylib\n",
            "\u001b[1;31m  Reason: tried: '/opt/anaconda3/lib/R/lib/../../libreadline.6.2.dylib' (no such file), '/opt/anaconda3/lib/R/bin/exec/../../../libreadline.6.2.dylib' (no such file), '/opt/anaconda3/lib/R/bin/exec/../../../libreadline.6.2.dylib' (no such file), '/opt/anaconda3/lib/R/lib/libreadline.6.2.dylib' (no such file), '/opt/anaconda3/lib/libreadline.6.2.dylib' (no such file), '/opt/anaconda3/libreadline.6.2.dylib' (no such file). \n",
            "\u001b[1;31mView Jupyter <a href='command:jupyter.viewOutput'>log</a> for further details."
          ]
        }
      ],
      "source": [
        "energy_output <- read_xlsx(\"Parameters.xlsx\", \n",
        "                           sheet = \"Energy Output\",\n",
        "                           start_row = 1,\n",
        "                           start_col = 1,\n",
        "                           skip_empty_rows = TRUE,\n",
        "                           skip_empty_cols = TRUE,\n",
        "                           col_names = TRUE) %>%\n",
        "  rename(sprop = `Solar Proportion`,\n",
        "         panels = `Total Panels`,\n",
        "         datalot = DataLot,\n",
        "         al_regs = `Region of AL`,\n",
        "         zips = ZIPCODE,\n",
        "         array = `Array Type`,\n",
        "         dc_kw = `DC System Size (kW)`,\n",
        "         energy = `Energy (kWh/Year)`) %>%\n",
        "  mutate(dc_kw = round(dc_kw, 2),\n",
        "         array = case_when(\n",
        "           array == \"1AxisRot\" ~ \"Tracking\",\n",
        "           array == \"FixedOpen\" ~ \"Fixed\",\n",
        "           TRUE ~ array))\n",
        "\n",
        "dim(energy_output)"
      ]
    },
    {
      "cell_type": "markdown",
      "id": "7369f91f-be69-4ba4-acaa-851315bc576e",
      "metadata": {},
      "source": [
        "### 2.8.1 Energy output by solar panels counts\n",
        "\n",
        "Plotting Energy output by number of solar panels in one acres of AV\n",
        "system from fixed and single axis rotation system for two zipcodes (1,\n",
        "2) within each of the four regions of AL."
      ]
    },
    {
      "cell_type": "code",
      "execution_count": null,
      "id": "fbba85b5-852e-484b-993d-dfed0b15dc9d",
      "metadata": {
        "vscode": {
          "languageId": "r"
        }
      },
      "outputs": [
        {
          "ename": "",
          "evalue": "",
          "output_type": "error",
          "traceback": [
            "\u001b[1;31mFailed to start the Kernel. \n",
            "\u001b[1;31mdyld[3726]: Library not loaded: @rpath/libreadline.6.2.dylib\n",
            "\u001b[1;31m  Referenced from: <185433D7-8B40-31AA-8BD9-465D23C57257> /opt/anaconda3/lib/R/lib/libR.dylib\n",
            "\u001b[1;31m  Reason: tried: '/opt/anaconda3/lib/R/lib/../../libreadline.6.2.dylib' (no such file), '/opt/anaconda3/lib/R/bin/exec/../../../libreadline.6.2.dylib' (no such file), '/opt/anaconda3/lib/R/bin/exec/../../../libreadline.6.2.dylib' (no such file), '/opt/anaconda3/lib/R/lib/libreadline.6.2.dylib' (no such file), '/opt/anaconda3/lib/libreadline.6.2.dylib' (no such file), '/opt/anaconda3/libreadline.6.2.dylib' (no such file). \n",
            "\u001b[1;31mView Jupyter <a href='command:jupyter.viewOutput'>log</a> for further details."
          ]
        }
      ],
      "source": [
        "lox <- c(\"Northern\", \"Central\", \"Black Belt\", \"Southern\")\n",
        "array_levs = c(\"Single Axis Rotation\", \"Fixed Open Rack\")\n",
        "datalot_levs = c(\"Location 1\", \"Location 2\")\n",
        "ggplot(data = energy_output,\n",
        "         mapping = aes(x = al_regs,\n",
        "                       y = energy,\n",
        "                       #fill = energy,\n",
        "                       color = factor(panels),\n",
        "                       group = factor(panels))) +\n",
        "  geom_line()+\n",
        "  geom_point() +\n",
        "  facet_grid(datalot~array) +\n",
        "  scale_x_discrete(limits = lox,\n",
        "                   labels = c(\"North\", \"Center\", \"B Belt\", \"South\")) +\n",
        "  guides(color = guide_legend(ncol = 2, reverse = TRUE))"
      ]
    },
    {
      "cell_type": "markdown",
      "id": "c09c3463-2bcb-4634-82fd-53b6c886224d",
      "metadata": {},
      "source": [
        "### 2.8.2 Energy output by DC System Size\n",
        "\n",
        "Plotting Energy output by DC System Size from fixed and single axis\n",
        "rotation system for two zipcodes (1, 2) within each of the four regions\n",
        "of AL."
      ]
    },
    {
      "cell_type": "code",
      "execution_count": null,
      "id": "03db153b-b43c-4560-91e8-59da16b39342",
      "metadata": {
        "vscode": {
          "languageId": "r"
        }
      },
      "outputs": [
        {
          "ename": "",
          "evalue": "",
          "output_type": "error",
          "traceback": [
            "\u001b[1;31mFailed to start the Kernel. \n",
            "\u001b[1;31mdyld[3726]: Library not loaded: @rpath/libreadline.6.2.dylib\n",
            "\u001b[1;31m  Referenced from: <185433D7-8B40-31AA-8BD9-465D23C57257> /opt/anaconda3/lib/R/lib/libR.dylib\n",
            "\u001b[1;31m  Reason: tried: '/opt/anaconda3/lib/R/lib/../../libreadline.6.2.dylib' (no such file), '/opt/anaconda3/lib/R/bin/exec/../../../libreadline.6.2.dylib' (no such file), '/opt/anaconda3/lib/R/bin/exec/../../../libreadline.6.2.dylib' (no such file), '/opt/anaconda3/lib/R/lib/libreadline.6.2.dylib' (no such file), '/opt/anaconda3/lib/libreadline.6.2.dylib' (no such file), '/opt/anaconda3/libreadline.6.2.dylib' (no such file). \n",
            "\u001b[1;31mView Jupyter <a href='command:jupyter.viewOutput'>log</a> for further details."
          ]
        }
      ],
      "source": [
        "lox <- c(\"Northern\", \"Central\", \"Black Belt\", \"Southern\")\n",
        "ggplot(data = energy_output,\n",
        "         mapping = aes(x = al_regs,\n",
        "                       y = energy,\n",
        "                       #fill = energy,\n",
        "                       color = factor(dc_kw),\n",
        "                       group = factor(dc_kw))) +\n",
        "  geom_line()+\n",
        "  geom_point() +\n",
        "  facet_grid(datalot~array) +\n",
        "  scale_x_discrete(limits = lox,\n",
        "                   labels = c(\"North\", \"Center\", \"B Belt\", \"South\")) +\n",
        "  guides(color = guide_legend(ncol =2, reverse = TRUE))"
      ]
    },
    {
      "cell_type": "markdown",
      "id": "9ddfdf45-ae89-491c-a3d8-10dbe3a6f201",
      "metadata": {},
      "source": [
        "# 3. Revenue from energy\n",
        "\n",
        "## 3.1 Simulation 1\n",
        "\n",
        "-   elcprc = electricity price. See Electricity price data for more\n",
        "    detail.\n",
        "\n",
        "-   elcrev = Revenue from electricity for given electricity prices. See\n",
        "    “energy output” and “electricity price” dataset for more details.\n",
        "\n",
        "-   I took average of “energy” from datalot 1 and datalot 2 to minimize\n",
        "    computation time."
      ]
    },
    {
      "cell_type": "code",
      "execution_count": null,
      "id": "93ac11cd-93be-49ed-a9d1-8f51464507bf",
      "metadata": {
        "vscode": {
          "languageId": "r"
        }
      },
      "outputs": [
        {
          "ename": "",
          "evalue": "",
          "output_type": "error",
          "traceback": [
            "\u001b[1;31mFailed to start the Kernel. \n",
            "\u001b[1;31mdyld[3726]: Library not loaded: @rpath/libreadline.6.2.dylib\n",
            "\u001b[1;31m  Referenced from: <185433D7-8B40-31AA-8BD9-465D23C57257> /opt/anaconda3/lib/R/lib/libR.dylib\n",
            "\u001b[1;31m  Reason: tried: '/opt/anaconda3/lib/R/lib/../../libreadline.6.2.dylib' (no such file), '/opt/anaconda3/lib/R/bin/exec/../../../libreadline.6.2.dylib' (no such file), '/opt/anaconda3/lib/R/bin/exec/../../../libreadline.6.2.dylib' (no such file), '/opt/anaconda3/lib/R/lib/libreadline.6.2.dylib' (no such file), '/opt/anaconda3/lib/libreadline.6.2.dylib' (no such file), '/opt/anaconda3/libreadline.6.2.dylib' (no such file). \n",
            "\u001b[1;31mView Jupyter <a href='command:jupyter.viewOutput'>log</a> for further details."
          ]
        }
      ],
      "source": [
        "# Convert to data frames if they are not already\n",
        "matrix1 <- energy_output  %>%\n",
        "  group_by(sprop, al_regs, array, dc_kw, panels) %>%\n",
        "  #filter(datalot == 2) %>%\n",
        "  # Compute mean of datalot 1 and datalot 2:\n",
        "  summarise(\n",
        "    energy = mean(energy),\n",
        "    .groups = 'drop'\n",
        "    ) # dimension of matrix is 168*6\n",
        "matrix2 <- elec_price # dimension of matrix is 11*1\n",
        "\n",
        "# Initialize the result data frame\n",
        "# energy_revenue <- data.frame(matrix(nrow = 1848, ncol = 9))\n",
        "energy_revenue <- data.frame(\n",
        "  matrix(nrow = nrow(matrix2)*nrow(matrix1),\n",
        "         ncol = ncol(matrix2)+ncol(matrix1)+1))\n",
        "\n",
        "# Variable to keep track of the row index in the result matrix\n",
        "row_index <- 1\n",
        "\n",
        "# Loop through each value of the second matrix\n",
        "for (i in 1:nrow(matrix2)) {\n",
        "  # Loop through each value of the second matrix\n",
        "  for (j in 1:nrow(matrix1)) {\n",
        "    # First matrix, second matrix, combined two matrices.\n",
        "    new_row <- c(matrix1[j, ], \n",
        "                 matrix2[i, ], \n",
        "                 matrix1$energy[j] * matrix2$epr_kwh[i])\n",
        "    # Assign the new row to the result matrix\n",
        "    energy_revenue[row_index, ] <- new_row\n",
        "    # Increment the row index\n",
        "    row_index <- row_index + 1\n",
        "  }\n",
        "}\n",
        "# Name the columns\n",
        "colnames(energy_revenue) <- c(colnames(matrix1), \"elcprc\", \"elcrev\")\n",
        "\n",
        "# Display the result\n",
        "dim(energy_revenue)"
      ]
    },
    {
      "cell_type": "markdown",
      "id": "49bc343f-e08a-407f-9777-2477c9a66644",
      "metadata": {},
      "source": [
        "## 3.2 Simulation 2\n",
        "\n",
        "This simulation has same result as above (Cross checking above code and\n",
        "output). Results are suppressed but errors and warnings are not. No\n",
        "error and no warnings means code is working as it should."
      ]
    },
    {
      "cell_type": "code",
      "execution_count": null,
      "id": "cf745cec-974e-4a6c-b48f-798332457d63",
      "metadata": {
        "vscode": {
          "languageId": "r"
        }
      },
      "outputs": [
        {
          "ename": "",
          "evalue": "",
          "output_type": "error",
          "traceback": [
            "\u001b[1;31mFailed to start the Kernel. \n",
            "\u001b[1;31mdyld[3726]: Library not loaded: @rpath/libreadline.6.2.dylib\n",
            "\u001b[1;31m  Referenced from: <185433D7-8B40-31AA-8BD9-465D23C57257> /opt/anaconda3/lib/R/lib/libR.dylib\n",
            "\u001b[1;31m  Reason: tried: '/opt/anaconda3/lib/R/lib/../../libreadline.6.2.dylib' (no such file), '/opt/anaconda3/lib/R/bin/exec/../../../libreadline.6.2.dylib' (no such file), '/opt/anaconda3/lib/R/bin/exec/../../../libreadline.6.2.dylib' (no such file), '/opt/anaconda3/lib/R/lib/libreadline.6.2.dylib' (no such file), '/opt/anaconda3/lib/libreadline.6.2.dylib' (no such file), '/opt/anaconda3/libreadline.6.2.dylib' (no such file). \n",
            "\u001b[1;31mView Jupyter <a href='command:jupyter.viewOutput'>log</a> for further details."
          ]
        }
      ],
      "source": [
        "## | results='hide'\n",
        "# Sample data\n",
        "set.seed(123)\n",
        "matrix1 <- energy_output # dimension of matrix is 176*7\n",
        "matrix2 <- elec_price # dimension of matrix is 11*1\n",
        "\n",
        "# Initializing the result matrix\n",
        "result_matrix <- data.frame(matrix(ncol = nrow(matrix2),\n",
        "                                   nrow = 0))\n",
        "colnames(result_matrix) <- c(colnames(matrix1),  \"elcrev\", \"elcprc\")\n",
        "\n",
        "# Loop to multiply first and second matrices\n",
        "for (i in 1:nrow(matrix2)) {\n",
        "  temp_matrix <- matrix1\n",
        "  temp_matrix$E_Prc <- matrix2[i, ]\n",
        "  temp_matrix$E_Rev <- matrix1$energy[j] * matrix2$epr_kwh[i]\n",
        "  result_matrix <- rbind(result_matrix, temp_matrix)\n",
        "}\n",
        "\n",
        "# Display the resulting matrix\n",
        "dim(result_matrix)\n",
        "head(result_matrix)\n",
        "tail(result_matrix)"
      ]
    },
    {
      "cell_type": "markdown",
      "id": "cd03c402-398c-47c4-b13a-528bc58b9465",
      "metadata": {},
      "source": [
        "## 3.3 Plotting revenue from energy production\n",
        "\n",
        "### 3.3.1 Breakdown by number of solar panels\n",
        "\n",
        "I am using data from simulation 1 for this visualization. This code\n",
        "plots one chart per electricity cost. There are 11 electricity cost\n",
        "resulting into 11 charts."
      ]
    },
    {
      "cell_type": "code",
      "execution_count": null,
      "id": "aeaddc7a-cefa-44a5-aaec-9a10c1577a99",
      "metadata": {
        "vscode": {
          "languageId": "r"
        }
      },
      "outputs": [
        {
          "ename": "",
          "evalue": "",
          "output_type": "error",
          "traceback": [
            "\u001b[1;31mFailed to start the Kernel. \n",
            "\u001b[1;31mdyld[3726]: Library not loaded: @rpath/libreadline.6.2.dylib\n",
            "\u001b[1;31m  Referenced from: <185433D7-8B40-31AA-8BD9-465D23C57257> /opt/anaconda3/lib/R/lib/libR.dylib\n",
            "\u001b[1;31m  Reason: tried: '/opt/anaconda3/lib/R/lib/../../libreadline.6.2.dylib' (no such file), '/opt/anaconda3/lib/R/bin/exec/../../../libreadline.6.2.dylib' (no such file), '/opt/anaconda3/lib/R/bin/exec/../../../libreadline.6.2.dylib' (no such file), '/opt/anaconda3/lib/R/lib/libreadline.6.2.dylib' (no such file), '/opt/anaconda3/lib/libreadline.6.2.dylib' (no such file), '/opt/anaconda3/libreadline.6.2.dylib' (no such file). \n",
            "\u001b[1;31mView Jupyter <a href='command:jupyter.viewOutput'>log</a> for further details."
          ]
        }
      ],
      "source": [
        "lox <- c(\"Northern\", \"Central\", \"Black Belt\", \"Southern\")\n",
        "array_levs = c(\"Single Axis Rotation\", \"Fixed Open Rack\")\n",
        "datalot_levs = c(\"Location 1\", \"Location 2\")\n",
        "for (i in unique(energy_revenue$elcprc)) {\n",
        " a = ggplot(data = (energy_revenue %>%\n",
        "  filter(elcprc == i)),\n",
        "         mapping = aes(x =al_regs,\n",
        "                       y = elcrev,\n",
        "                       #fill = energy,\n",
        "                       color = factor(panels),\n",
        "                       group = factor(panels)))+\n",
        "  geom_line()+\n",
        "  geom_point()+\n",
        "  facet_grid(.~array) +\n",
        "  scale_x_discrete(limits = lox,\n",
        "                   labels = c(\"North\", \"Center\", \"B Belt\", \"South\")) +\n",
        "   guides(color = guide_legend(ncol =2, reverse = TRUE))\n",
        " cat(\"Electricity Price = \", i)\n",
        " print(a)\n",
        "}"
      ]
    },
    {
      "cell_type": "markdown",
      "id": "4420470d-08c3-4d2b-8d5d-2c2aad3f5834",
      "metadata": {},
      "source": [
        "### 3.3.2 Breakdown by proportion of land under solar panels\n",
        "\n",
        "-   Two proportions may have same number of solar panels (Eg. 0.80 and\n",
        "    0.85, 0.20 and 0.25). So, total lines in the chart may not match\n",
        "    with total number of legend levels. Some proportions are overlapping\n",
        "    in the chart. See panel configuration for more detail."
      ]
    },
    {
      "cell_type": "code",
      "execution_count": null,
      "id": "14726b82-e11c-4424-b17e-5af5d71c0dab",
      "metadata": {
        "vscode": {
          "languageId": "r"
        }
      },
      "outputs": [
        {
          "ename": "",
          "evalue": "",
          "output_type": "error",
          "traceback": [
            "\u001b[1;31mFailed to start the Kernel. \n",
            "\u001b[1;31mdyld[3726]: Library not loaded: @rpath/libreadline.6.2.dylib\n",
            "\u001b[1;31m  Referenced from: <185433D7-8B40-31AA-8BD9-465D23C57257> /opt/anaconda3/lib/R/lib/libR.dylib\n",
            "\u001b[1;31m  Reason: tried: '/opt/anaconda3/lib/R/lib/../../libreadline.6.2.dylib' (no such file), '/opt/anaconda3/lib/R/bin/exec/../../../libreadline.6.2.dylib' (no such file), '/opt/anaconda3/lib/R/bin/exec/../../../libreadline.6.2.dylib' (no such file), '/opt/anaconda3/lib/R/lib/libreadline.6.2.dylib' (no such file), '/opt/anaconda3/lib/libreadline.6.2.dylib' (no such file), '/opt/anaconda3/libreadline.6.2.dylib' (no such file). \n",
            "\u001b[1;31mView Jupyter <a href='command:jupyter.viewOutput'>log</a> for further details."
          ]
        }
      ],
      "source": [
        "lox <- c(\"Northern\", \"Central\", \"Black Belt\", \"Southern\")\n",
        "array_levs = c(\"Single Axis Rotation\", \"Fixed Open Rack\")\n",
        "datalot_levs = c(\"Location 1\", \"Location 2\")\n",
        "for (i in unique(energy_revenue$elcprc)) {\n",
        " a = ggplot(data = (energy_revenue %>%\n",
        "  filter(elcprc == i)),\n",
        "         mapping = aes(x =al_regs,\n",
        "                       y = elcrev,\n",
        "                       #fill = energy,\n",
        "                       color = factor(sprop),\n",
        "                       group = factor(sprop)))+\n",
        "  geom_line()+\n",
        "  geom_point()+\n",
        "  facet_grid(.~array) +\n",
        "  scale_x_discrete(limits = lox,\n",
        "                   labels = c(\"North\", \"Center\", \"B Belt\", \"South\")) +\n",
        "   guides(color = guide_legend(ncol = 2, reverse = TRUE))\n",
        " cat(\"Electricity Price = \", i)\n",
        " print(a)\n",
        "}"
      ]
    },
    {
      "cell_type": "markdown",
      "id": "72fdbfcc-05f7-421b-a685-d319d8706ebc",
      "metadata": {},
      "source": [
        "# 4. Solar system cost\n",
        "\n",
        "-   Cost of solar energy system in agrivoltaic setting.\n",
        "\n",
        "-   I used DC system size (dc_kw) and capex (\\$/W) to get total cost for\n",
        "    each height and panel tracking system.\n",
        "\n",
        "-   1 kw dc system size costs x\\$ CAPEX for given height and tracking\n",
        "    system.\n",
        "\n",
        "-   y kw dc system size costs \\$x\\*y for given height and tracking\n",
        "    system.\n",
        "\n",
        "-   Use simulation 1 data and capex data to get solar system cost.\n",
        "\n",
        "-   There should be 1936\\*3 = 5808 rows in this dataset.\n",
        "\n",
        "-   height = height of solar panels; see capex dataset for details.\n",
        "\n",
        "-   capex = capex from capex table; see capex dataset for details.\n",
        "\n",
        "-   ttlcost = Total cost for given DC system size.\n",
        "\n",
        "-   anncost = Annual payment to repay loan ($P_{ann}$) =\n",
        "    $\\frac{P_o(i(1 + i)^t)}{(1+i)^t - 1)}$ , where $P_o$ = CAPEX loan\n",
        "    burrowed to repay in $t$ years; $t = 25$, and $i$ = annual interest\n",
        "    rate at $5\\%$.\n",
        "\n",
        "-   moncost = Monthly payment to repay loan ($P_{mon}$) =\n",
        "    $\\frac{P_o((i/12)(1 + (i/12))^{t*12})}{(1+(i/12))^{t*12} - 1)}$,\n",
        "    where $P_o$ = CAPEX loan burrowed to repay in $t$ years; $t = 25$,\n",
        "    and $i$ = annual interest rate at $5\\%$."
      ]
    },
    {
      "cell_type": "code",
      "execution_count": null,
      "id": "ac7991c8-7fce-4a5f-82fa-fecf34d1d098",
      "metadata": {
        "vscode": {
          "languageId": "r"
        }
      },
      "outputs": [
        {
          "ename": "",
          "evalue": "",
          "output_type": "error",
          "traceback": [
            "\u001b[1;31mFailed to start the Kernel. \n",
            "\u001b[1;31mdyld[3726]: Library not loaded: @rpath/libreadline.6.2.dylib\n",
            "\u001b[1;31m  Referenced from: <185433D7-8B40-31AA-8BD9-465D23C57257> /opt/anaconda3/lib/R/lib/libR.dylib\n",
            "\u001b[1;31m  Reason: tried: '/opt/anaconda3/lib/R/lib/../../libreadline.6.2.dylib' (no such file), '/opt/anaconda3/lib/R/bin/exec/../../../libreadline.6.2.dylib' (no such file), '/opt/anaconda3/lib/R/bin/exec/../../../libreadline.6.2.dylib' (no such file), '/opt/anaconda3/lib/R/lib/libreadline.6.2.dylib' (no such file), '/opt/anaconda3/lib/libreadline.6.2.dylib' (no such file), '/opt/anaconda3/libreadline.6.2.dylib' (no such file). \n",
            "\u001b[1;31mView Jupyter <a href='command:jupyter.viewOutput'>log</a> for further details."
          ]
        }
      ],
      "source": [
        "expanded_data <- energy_revenue %>%\n",
        "  slice(rep(1:n(),\n",
        "            each = 3))\n",
        "capex_height <- rep(unique(capex$height),\n",
        "                    length.out = nrow(energy_revenue))\n",
        "energy_cost = cbind(expanded_data, capex_height) %>% \n",
        "  rename(height = capex_height)\n",
        "\n",
        "energy_cost <- left_join(energy_cost, \n",
        "                         capex, \n",
        "                         by = c(\"array\", \"height\")) %>% \n",
        "  mutate(ttlcost = capex*dc_kw,\n",
        "         anncost = ttlcost*(0.05*(1 + 0.05)^25)/\n",
        "           ((1 + 0.05)^25 - 1),\n",
        "         moncost = ttlcost*((0.05/12)*(1 + (0.05/12))^(25*12))/\n",
        "           ((1 + (0.05/12))^(25*12) - 1))\n",
        "\n",
        "dim(energy_cost)"
      ]
    },
    {
      "cell_type": "markdown",
      "id": "de2115fb-5103-4a91-b2b8-d82bec9db6db",
      "metadata": {},
      "source": [
        "# 5. Profit from solar\n",
        "\n",
        "Profit from solar energy system in agrivoltaic setting\n",
        "\n",
        "-   eprofit = profit from electricity after subtracting total cost\n",
        "    (ttlcost) from total revenue (elcrev).\n",
        "-   eannprof = annual profit from solar after subtracting annual loan\n",
        "    repayment distributed over 25 years.\n",
        "-   emonprof = monthly profit from solar after subtracting monthly loan\n",
        "    repayment distributed over 25 years."
      ]
    },
    {
      "cell_type": "code",
      "execution_count": null,
      "id": "b765ba01-3926-4cdc-97b9-66b886a1690f",
      "metadata": {
        "vscode": {
          "languageId": "r"
        }
      },
      "outputs": [
        {
          "ename": "",
          "evalue": "",
          "output_type": "error",
          "traceback": [
            "\u001b[1;31mFailed to start the Kernel. \n",
            "\u001b[1;31mdyld[3726]: Library not loaded: @rpath/libreadline.6.2.dylib\n",
            "\u001b[1;31m  Referenced from: <185433D7-8B40-31AA-8BD9-465D23C57257> /opt/anaconda3/lib/R/lib/libR.dylib\n",
            "\u001b[1;31m  Reason: tried: '/opt/anaconda3/lib/R/lib/../../libreadline.6.2.dylib' (no such file), '/opt/anaconda3/lib/R/bin/exec/../../../libreadline.6.2.dylib' (no such file), '/opt/anaconda3/lib/R/bin/exec/../../../libreadline.6.2.dylib' (no such file), '/opt/anaconda3/lib/R/lib/libreadline.6.2.dylib' (no such file), '/opt/anaconda3/lib/libreadline.6.2.dylib' (no such file), '/opt/anaconda3/libreadline.6.2.dylib' (no such file). \n",
            "\u001b[1;31mView Jupyter <a href='command:jupyter.viewOutput'>log</a> for further details."
          ]
        }
      ],
      "source": [
        "solar_profit <- energy_cost %>%\n",
        "  mutate(eprofit = elcrev - ttlcost,\n",
        "         eannprof = elcrev - anncost,\n",
        "         emonprof = (elcrev/12) - moncost)\n",
        "dim(solar_profit)"
      ]
    },
    {
      "cell_type": "markdown",
      "id": "b569ba7a-26c7-4629-9bbc-d5075d23f5ee",
      "metadata": {},
      "source": [
        "## 5.1 Plot profit from solar"
      ]
    },
    {
      "cell_type": "code",
      "execution_count": null,
      "id": "f9ae17f7-4cff-4d5c-b365-2ac719d94e37",
      "metadata": {
        "vscode": {
          "languageId": "r"
        }
      },
      "outputs": [
        {
          "ename": "",
          "evalue": "",
          "output_type": "error",
          "traceback": [
            "\u001b[1;31mFailed to start the Kernel. \n",
            "\u001b[1;31mdyld[3726]: Library not loaded: @rpath/libreadline.6.2.dylib\n",
            "\u001b[1;31m  Referenced from: <185433D7-8B40-31AA-8BD9-465D23C57257> /opt/anaconda3/lib/R/lib/libR.dylib\n",
            "\u001b[1;31m  Reason: tried: '/opt/anaconda3/lib/R/lib/../../libreadline.6.2.dylib' (no such file), '/opt/anaconda3/lib/R/bin/exec/../../../libreadline.6.2.dylib' (no such file), '/opt/anaconda3/lib/R/bin/exec/../../../libreadline.6.2.dylib' (no such file), '/opt/anaconda3/lib/R/lib/libreadline.6.2.dylib' (no such file), '/opt/anaconda3/lib/libreadline.6.2.dylib' (no such file), '/opt/anaconda3/libreadline.6.2.dylib' (no such file). \n",
            "\u001b[1;31mView Jupyter <a href='command:jupyter.viewOutput'>log</a> for further details."
          ]
        }
      ],
      "source": [
        "lox <- c(\"Northern\", \"Central\", \"Black Belt\", \"Southern\")\n",
        "array_levs = c(\"Single Axis Rotation\", \"Fixed Open Rack\")\n",
        "datalot_levs = c(\"Location 1\", \"Location 2\")\n",
        "  for (i in unique(solar_profit$elcprc)) {\n",
        "    b = ggplot(\n",
        "      data = (solar_profit %>%\n",
        "                filter(elcprc == i)),\n",
        "      mapping = aes(\n",
        "        x = al_regs,\n",
        "        y = eprofit,\n",
        "        #fill = energy,\n",
        "        color = factor(panels),\n",
        "        group = factor(panels)\n",
        "      )\n",
        "    ) +\n",
        "      geom_line() +\n",
        "      geom_point() +\n",
        "      facet_grid(height ~ array) +\n",
        "      scale_x_discrete(limits = lox,\n",
        "                       labels = c(\"North\", \"Center\", \n",
        "                                  \"B Belt\", \"South\")) +\n",
        "      guides(color = guide_legend(ncol = 2, \n",
        "                                  reverse = TRUE))\n",
        "    cat(\"Electricity Price = \", i)\n",
        "    print(b)\n",
        "  }"
      ]
    },
    {
      "cell_type": "markdown",
      "id": "02039637-892f-41f7-9a55-50a4b9c185d2",
      "metadata": {},
      "source": [
        "# 6. Profit from crops\n",
        "\n",
        "## 6.1 Tomato\n",
        "\n",
        "Filter return to operator, land and capital profit from Tomato:"
      ]
    },
    {
      "cell_type": "code",
      "execution_count": null,
      "id": "efe1b857-8d18-4a1f-b0d5-4d42a94c0ae3",
      "metadata": {
        "vscode": {
          "languageId": "r"
        }
      },
      "outputs": [
        {
          "ename": "",
          "evalue": "",
          "output_type": "error",
          "traceback": [
            "\u001b[1;31mFailed to start the Kernel. \n",
            "\u001b[1;31mdyld[3726]: Library not loaded: @rpath/libreadline.6.2.dylib\n",
            "\u001b[1;31m  Referenced from: <185433D7-8B40-31AA-8BD9-465D23C57257> /opt/anaconda3/lib/R/lib/libR.dylib\n",
            "\u001b[1;31m  Reason: tried: '/opt/anaconda3/lib/R/lib/../../libreadline.6.2.dylib' (no such file), '/opt/anaconda3/lib/R/bin/exec/../../../libreadline.6.2.dylib' (no such file), '/opt/anaconda3/lib/R/bin/exec/../../../libreadline.6.2.dylib' (no such file), '/opt/anaconda3/lib/R/lib/libreadline.6.2.dylib' (no such file), '/opt/anaconda3/lib/libreadline.6.2.dylib' (no such file), '/opt/anaconda3/libreadline.6.2.dylib' (no such file). \n",
            "\u001b[1;31mView Jupyter <a href='command:jupyter.viewOutput'>log</a> for further details."
          ]
        }
      ],
      "source": [
        "tomato_profit = tomato %>% \n",
        "  select(yldvar, yield, \n",
        "         rolac17, rolac18, rolac19, rolac20, \n",
        "         rolac21, rolac22, rolac23)\n",
        "dim(tomato_profit)"
      ]
    },
    {
      "cell_type": "markdown",
      "id": "7fc01f32-6f41-4b43-bb4c-26ed9d91b041",
      "metadata": {},
      "source": [
        "Convert data to long format:"
      ]
    },
    {
      "cell_type": "code",
      "execution_count": null,
      "id": "b95a0995-4fc9-4156-92b8-8970a7e13f0f",
      "metadata": {
        "vscode": {
          "languageId": "r"
        }
      },
      "outputs": [
        {
          "ename": "",
          "evalue": "",
          "output_type": "error",
          "traceback": [
            "\u001b[1;31mFailed to start the Kernel. \n",
            "\u001b[1;31mdyld[3726]: Library not loaded: @rpath/libreadline.6.2.dylib\n",
            "\u001b[1;31m  Referenced from: <185433D7-8B40-31AA-8BD9-465D23C57257> /opt/anaconda3/lib/R/lib/libR.dylib\n",
            "\u001b[1;31m  Reason: tried: '/opt/anaconda3/lib/R/lib/../../libreadline.6.2.dylib' (no such file), '/opt/anaconda3/lib/R/bin/exec/../../../libreadline.6.2.dylib' (no such file), '/opt/anaconda3/lib/R/bin/exec/../../../libreadline.6.2.dylib' (no such file), '/opt/anaconda3/lib/R/lib/libreadline.6.2.dylib' (no such file), '/opt/anaconda3/lib/libreadline.6.2.dylib' (no such file), '/opt/anaconda3/libreadline.6.2.dylib' (no such file). \n",
            "\u001b[1;31mView Jupyter <a href='command:jupyter.viewOutput'>log</a> for further details."
          ]
        }
      ],
      "source": [
        "# Assign column names for clarity\n",
        "colnames(tomato_profit) <- c(\"yldvar\", \"yield\",\n",
        "                  \"rolac17\", \"rolac18\", \"rolac19\",\n",
        "                  \"rolac20\", \"rolac21\", \"rolac22\",\n",
        "                  \"rolac23\")\n",
        "\n",
        "# Reshape the data frame from wide to long format\n",
        "tomato_long <- melt(tomato_profit,\n",
        "                id.vars = c(\"yldvar\", \"yield\"),\n",
        "                measure.vars = c(\"rolac17\", \"rolac18\", \"rolac19\",\n",
        "                                 \"rolac20\", \"rolac21\", \"rolac22\",\n",
        "                                 \"rolac23\"),\n",
        "                variable.name = \"price\",\n",
        "                value.name = \"profit\")\n",
        "\n",
        "# Convert the 'Price' column to numeric by extracting the number\n",
        "tomato_long$price <- as.numeric(gsub(\"rolac\", \"\", tomato_long$price))\n",
        "\n",
        "# View the resulting data frame\n",
        "dim(tomato_long)"
      ]
    },
    {
      "cell_type": "markdown",
      "id": "2cc4cd82-7164-416d-9933-cf72039fb712",
      "metadata": {},
      "source": [
        "### 6.1.1 Profit from tomato"
      ]
    },
    {
      "cell_type": "code",
      "execution_count": null,
      "id": "8d852205-927e-47df-88ba-f5a324018ed1",
      "metadata": {
        "vscode": {
          "languageId": "r"
        }
      },
      "outputs": [
        {
          "ename": "",
          "evalue": "",
          "output_type": "error",
          "traceback": [
            "\u001b[1;31mFailed to start the Kernel. \n",
            "\u001b[1;31mdyld[3726]: Library not loaded: @rpath/libreadline.6.2.dylib\n",
            "\u001b[1;31m  Referenced from: <185433D7-8B40-31AA-8BD9-465D23C57257> /opt/anaconda3/lib/R/lib/libR.dylib\n",
            "\u001b[1;31m  Reason: tried: '/opt/anaconda3/lib/R/lib/../../libreadline.6.2.dylib' (no such file), '/opt/anaconda3/lib/R/bin/exec/../../../libreadline.6.2.dylib' (no such file), '/opt/anaconda3/lib/R/bin/exec/../../../libreadline.6.2.dylib' (no such file), '/opt/anaconda3/lib/R/lib/libreadline.6.2.dylib' (no such file), '/opt/anaconda3/lib/libreadline.6.2.dylib' (no such file), '/opt/anaconda3/libreadline.6.2.dylib' (no such file). \n",
            "\u001b[1;31mView Jupyter <a href='command:jupyter.viewOutput'>log</a> for further details."
          ]
        }
      ],
      "source": [
        "ggplot(data = tomato_long,\n",
        "       mapping = aes(x = price,\n",
        "                     y = profit,\n",
        "                     color = factor(yldvar),\n",
        "                     group = factor(yield))) +\n",
        "  geom_line() +\n",
        "  geom_point() +\n",
        "  geom_hline(yintercept = 0,\n",
        "             linetype = \"dashed\",\n",
        "             color = \"black\") +\n",
        "  guides(color = guide_legend(ncol = 2,\n",
        "                              reverse = TRUE))"
      ]
    },
    {
      "cell_type": "code",
      "execution_count": null,
      "id": "31b5aaf1-0eb5-47fe-903c-a45ee52700f0",
      "metadata": {
        "vscode": {
          "languageId": "r"
        }
      },
      "outputs": [
        {
          "ename": "",
          "evalue": "",
          "output_type": "error",
          "traceback": [
            "\u001b[1;31mFailed to start the Kernel. \n",
            "\u001b[1;31mdyld[3726]: Library not loaded: @rpath/libreadline.6.2.dylib\n",
            "\u001b[1;31m  Referenced from: <185433D7-8B40-31AA-8BD9-465D23C57257> /opt/anaconda3/lib/R/lib/libR.dylib\n",
            "\u001b[1;31m  Reason: tried: '/opt/anaconda3/lib/R/lib/../../libreadline.6.2.dylib' (no such file), '/opt/anaconda3/lib/R/bin/exec/../../../libreadline.6.2.dylib' (no such file), '/opt/anaconda3/lib/R/bin/exec/../../../libreadline.6.2.dylib' (no such file), '/opt/anaconda3/lib/R/lib/libreadline.6.2.dylib' (no such file), '/opt/anaconda3/lib/libreadline.6.2.dylib' (no such file), '/opt/anaconda3/libreadline.6.2.dylib' (no such file). \n",
            "\u001b[1;31mView Jupyter <a href='command:jupyter.viewOutput'>log</a> for further details."
          ]
        }
      ],
      "source": [
        "ggplot(data = tomato_long,\n",
        "       mapping = aes(x = yield,\n",
        "                     y = profit,\n",
        "                     #fill = yield,\n",
        "                     color = factor(price),\n",
        "                     group = factor(price))) +\n",
        "  geom_line() +\n",
        "  geom_point() +\n",
        "  geom_hline(yintercept = 0,\n",
        "             linetype = \"dashed\",\n",
        "             color = \"black\") +\n",
        "  # Vertical dashed line is 100% yield\n",
        "  geom_vline(xintercept = tomato_long$yield[11],\n",
        "             linetype = \"dashed\",\n",
        "             color = \"black\") +\n",
        "guides(color = guide_legend(reverse = TRUE))"
      ]
    },
    {
      "cell_type": "markdown",
      "id": "27367a90-2cf3-466c-a874-683fd3c46ff5",
      "metadata": {},
      "source": [
        "## 6.2 Strawberry\n",
        "\n",
        "Filter return to operator, land and capital profit from strawberry"
      ]
    },
    {
      "cell_type": "code",
      "execution_count": null,
      "id": "b5592d60-5feb-4dfd-83fd-e55f05f2d03a",
      "metadata": {
        "vscode": {
          "languageId": "r"
        }
      },
      "outputs": [
        {
          "ename": "",
          "evalue": "",
          "output_type": "error",
          "traceback": [
            "\u001b[1;31mFailed to start the Kernel. \n",
            "\u001b[1;31mdyld[3726]: Library not loaded: @rpath/libreadline.6.2.dylib\n",
            "\u001b[1;31m  Referenced from: <185433D7-8B40-31AA-8BD9-465D23C57257> /opt/anaconda3/lib/R/lib/libR.dylib\n",
            "\u001b[1;31m  Reason: tried: '/opt/anaconda3/lib/R/lib/../../libreadline.6.2.dylib' (no such file), '/opt/anaconda3/lib/R/bin/exec/../../../libreadline.6.2.dylib' (no such file), '/opt/anaconda3/lib/R/bin/exec/../../../libreadline.6.2.dylib' (no such file), '/opt/anaconda3/lib/R/lib/libreadline.6.2.dylib' (no such file), '/opt/anaconda3/lib/libreadline.6.2.dylib' (no such file), '/opt/anaconda3/libreadline.6.2.dylib' (no such file). \n",
            "\u001b[1;31mView Jupyter <a href='command:jupyter.viewOutput'>log</a> for further details."
          ]
        }
      ],
      "source": [
        "strawberry_profit = strawberry %>% \n",
        "  select(yldvar, yield, \n",
        "         rolac3, rolac4, rolac5, rolac6, \n",
        "         rolac7, rolac8, rolac9)\n",
        "dim(strawberry_profit)"
      ]
    },
    {
      "cell_type": "markdown",
      "id": "f4773bf1-e4d4-4445-81ba-83b76a8aabe9",
      "metadata": {},
      "source": [
        "Convert data to long format:"
      ]
    },
    {
      "cell_type": "code",
      "execution_count": null,
      "id": "3acecc17-13b5-44cb-87f1-6977a57d3f0f",
      "metadata": {
        "vscode": {
          "languageId": "r"
        }
      },
      "outputs": [
        {
          "ename": "",
          "evalue": "",
          "output_type": "error",
          "traceback": [
            "\u001b[1;31mFailed to start the Kernel. \n",
            "\u001b[1;31mdyld[3726]: Library not loaded: @rpath/libreadline.6.2.dylib\n",
            "\u001b[1;31m  Referenced from: <185433D7-8B40-31AA-8BD9-465D23C57257> /opt/anaconda3/lib/R/lib/libR.dylib\n",
            "\u001b[1;31m  Reason: tried: '/opt/anaconda3/lib/R/lib/../../libreadline.6.2.dylib' (no such file), '/opt/anaconda3/lib/R/bin/exec/../../../libreadline.6.2.dylib' (no such file), '/opt/anaconda3/lib/R/bin/exec/../../../libreadline.6.2.dylib' (no such file), '/opt/anaconda3/lib/R/lib/libreadline.6.2.dylib' (no such file), '/opt/anaconda3/lib/libreadline.6.2.dylib' (no such file), '/opt/anaconda3/libreadline.6.2.dylib' (no such file). \n",
            "\u001b[1;31mView Jupyter <a href='command:jupyter.viewOutput'>log</a> for further details."
          ]
        }
      ],
      "source": [
        "# Assign column names for clarity\n",
        "colnames(strawberry_profit) <- c(\"yldvar\", \"yield\",\n",
        "                  \"rolac3\", \"rolac4\", \"rolac5\",\n",
        "                  \"rolac6\", \"rolac7\", \"rolac8\",\n",
        "                  \"rolac9\")\n",
        "# Reshape the data frame from wide to long format\n",
        "stberry_long <- melt(strawberry_profit,\n",
        "                id.vars = c(\"yldvar\", \"yield\"),\n",
        "                measure.vars = c(\"rolac3\", \"rolac4\", \"rolac5\",\n",
        "                                 \"rolac6\", \"rolac7\", \"rolac8\",\n",
        "                                 \"rolac9\"),\n",
        "                variable.name = \"price\",\n",
        "                value.name = \"profit\")\n",
        "\n",
        "# Convert the 'Price' column to numeric by extracting the number\n",
        "stberry_long$price <- as.numeric(gsub(\"rolac\", \"\", stberry_long$price))\n",
        "\n",
        "# View the resulting data frame\n",
        "dim(stberry_long)"
      ]
    },
    {
      "cell_type": "markdown",
      "id": "09a57bb4-5deb-43f5-b503-c0309e9d41f9",
      "metadata": {},
      "source": [
        "### 6.2.1 Plot Strawberry Profit"
      ]
    },
    {
      "cell_type": "code",
      "execution_count": null,
      "id": "afc8c47d-7b38-4d48-88c3-99ac3f989348",
      "metadata": {
        "vscode": {
          "languageId": "r"
        }
      },
      "outputs": [
        {
          "ename": "",
          "evalue": "",
          "output_type": "error",
          "traceback": [
            "\u001b[1;31mFailed to start the Kernel. \n",
            "\u001b[1;31mdyld[3726]: Library not loaded: @rpath/libreadline.6.2.dylib\n",
            "\u001b[1;31m  Referenced from: <185433D7-8B40-31AA-8BD9-465D23C57257> /opt/anaconda3/lib/R/lib/libR.dylib\n",
            "\u001b[1;31m  Reason: tried: '/opt/anaconda3/lib/R/lib/../../libreadline.6.2.dylib' (no such file), '/opt/anaconda3/lib/R/bin/exec/../../../libreadline.6.2.dylib' (no such file), '/opt/anaconda3/lib/R/bin/exec/../../../libreadline.6.2.dylib' (no such file), '/opt/anaconda3/lib/R/lib/libreadline.6.2.dylib' (no such file), '/opt/anaconda3/lib/libreadline.6.2.dylib' (no such file), '/opt/anaconda3/libreadline.6.2.dylib' (no such file). \n",
            "\u001b[1;31mView Jupyter <a href='command:jupyter.viewOutput'>log</a> for further details."
          ]
        }
      ],
      "source": [
        "ggplot(data = stberry_long,\n",
        "       mapping = aes(x = price,\n",
        "                     y = profit,\n",
        "                     color = factor(yldvar),\n",
        "                     group = factor(yield))) +\n",
        "  geom_line() +\n",
        "  geom_point() +\n",
        "  geom_hline(yintercept = 0,\n",
        "             linetype = \"dashed\",\n",
        "             color = \"black\") +\n",
        "  guides(color = guide_legend(ncol = 2,\n",
        "                              reverse = TRUE))"
      ]
    },
    {
      "cell_type": "code",
      "execution_count": null,
      "id": "10026ae7-8620-43fc-aae5-ed9271f03ed5",
      "metadata": {
        "vscode": {
          "languageId": "r"
        }
      },
      "outputs": [
        {
          "ename": "",
          "evalue": "",
          "output_type": "error",
          "traceback": [
            "\u001b[1;31mFailed to start the Kernel. \n",
            "\u001b[1;31mdyld[3726]: Library not loaded: @rpath/libreadline.6.2.dylib\n",
            "\u001b[1;31m  Referenced from: <185433D7-8B40-31AA-8BD9-465D23C57257> /opt/anaconda3/lib/R/lib/libR.dylib\n",
            "\u001b[1;31m  Reason: tried: '/opt/anaconda3/lib/R/lib/../../libreadline.6.2.dylib' (no such file), '/opt/anaconda3/lib/R/bin/exec/../../../libreadline.6.2.dylib' (no such file), '/opt/anaconda3/lib/R/bin/exec/../../../libreadline.6.2.dylib' (no such file), '/opt/anaconda3/lib/R/lib/libreadline.6.2.dylib' (no such file), '/opt/anaconda3/lib/libreadline.6.2.dylib' (no such file), '/opt/anaconda3/libreadline.6.2.dylib' (no such file). \n",
            "\u001b[1;31mView Jupyter <a href='command:jupyter.viewOutput'>log</a> for further details."
          ]
        }
      ],
      "source": [
        "ggplot(data = stberry_long,\n",
        "       mapping = aes(x = yield,\n",
        "                     y = profit,\n",
        "                     color = factor(price),\n",
        "                     group = factor(price))) +\n",
        "  geom_line() +\n",
        "  geom_point() +\n",
        "  geom_hline(yintercept = 0,\n",
        "             linetype = \"dashed\",\n",
        "             color = \"black\") +\n",
        "  #Vertical dashed line is 100% yield\n",
        "  geom_vline(xintercept = stberry_long$yield[11],\n",
        "             linetype = \"dashed\",\n",
        "             color = \"black\") +\n",
        "  guides(color = guide_legend(reverse = TRUE))"
      ]
    },
    {
      "cell_type": "markdown",
      "id": "ef6f186d-c933-4603-ac55-2f85250717b4",
      "metadata": {},
      "source": [
        "## 6.3 Squash\n",
        "\n",
        "Filter return to operator, land and capital profit from squash"
      ]
    },
    {
      "cell_type": "code",
      "execution_count": null,
      "id": "7b4cd347-5ce5-4074-9b19-a1b040bb84cf",
      "metadata": {
        "vscode": {
          "languageId": "r"
        }
      },
      "outputs": [
        {
          "ename": "",
          "evalue": "",
          "output_type": "error",
          "traceback": [
            "\u001b[1;31mFailed to start the Kernel. \n",
            "\u001b[1;31mdyld[3726]: Library not loaded: @rpath/libreadline.6.2.dylib\n",
            "\u001b[1;31m  Referenced from: <185433D7-8B40-31AA-8BD9-465D23C57257> /opt/anaconda3/lib/R/lib/libR.dylib\n",
            "\u001b[1;31m  Reason: tried: '/opt/anaconda3/lib/R/lib/../../libreadline.6.2.dylib' (no such file), '/opt/anaconda3/lib/R/bin/exec/../../../libreadline.6.2.dylib' (no such file), '/opt/anaconda3/lib/R/bin/exec/../../../libreadline.6.2.dylib' (no such file), '/opt/anaconda3/lib/R/lib/libreadline.6.2.dylib' (no such file), '/opt/anaconda3/lib/libreadline.6.2.dylib' (no such file), '/opt/anaconda3/libreadline.6.2.dylib' (no such file). \n",
            "\u001b[1;31mView Jupyter <a href='command:jupyter.viewOutput'>log</a> for further details."
          ]
        }
      ],
      "source": [
        "squash_profit = squash %>% \n",
        "  select(yldvar, yield, \n",
        "         rolac11, rolac12, rolac13, rolac14, \n",
        "         rolac15, rolac16, rolac17)\n",
        "squash_profit"
      ]
    },
    {
      "cell_type": "markdown",
      "id": "00c1ed97-fca5-4e44-9802-ee2dece35e12",
      "metadata": {},
      "source": [
        "Convert data to long format:"
      ]
    },
    {
      "cell_type": "code",
      "execution_count": null,
      "id": "6c3f3e80-6bbd-4acf-a9d9-7821b660adc4",
      "metadata": {
        "vscode": {
          "languageId": "r"
        }
      },
      "outputs": [
        {
          "ename": "",
          "evalue": "",
          "output_type": "error",
          "traceback": [
            "\u001b[1;31mFailed to start the Kernel. \n",
            "\u001b[1;31mdyld[3726]: Library not loaded: @rpath/libreadline.6.2.dylib\n",
            "\u001b[1;31m  Referenced from: <185433D7-8B40-31AA-8BD9-465D23C57257> /opt/anaconda3/lib/R/lib/libR.dylib\n",
            "\u001b[1;31m  Reason: tried: '/opt/anaconda3/lib/R/lib/../../libreadline.6.2.dylib' (no such file), '/opt/anaconda3/lib/R/bin/exec/../../../libreadline.6.2.dylib' (no such file), '/opt/anaconda3/lib/R/bin/exec/../../../libreadline.6.2.dylib' (no such file), '/opt/anaconda3/lib/R/lib/libreadline.6.2.dylib' (no such file), '/opt/anaconda3/lib/libreadline.6.2.dylib' (no such file), '/opt/anaconda3/libreadline.6.2.dylib' (no such file). \n",
            "\u001b[1;31mView Jupyter <a href='command:jupyter.viewOutput'>log</a> for further details."
          ]
        }
      ],
      "source": [
        "# Assign column names for clarity\n",
        "colnames(squash_profit) <- c(\"yldvar\", \"yield\",\n",
        "                  \"rolac11\", \"rolac12\", \"rolac13\",\n",
        "                  \"rolac14\", \"rolac15\", \"rolac16\",\n",
        "                  \"rolac17\")\n",
        "\n",
        "# Reshape the data frame from wide to long format\n",
        "squash_long <- melt(squash_profit,\n",
        "                id.vars = c(\"yldvar\", \"yield\"),\n",
        "                measure.vars = c(\"rolac11\", \"rolac12\", \"rolac13\",\n",
        "                                 \"rolac14\", \"rolac15\", \"rolac16\",\n",
        "                                 \"rolac17\"),\n",
        "                variable.name = \"price\",\n",
        "                value.name = \"profit\")\n",
        "\n",
        "# Convert the 'Price' column to numeric by extracting the number\n",
        "squash_long$price <- as.numeric(gsub(\"rolac\", \"\", squash_long$price))\n",
        "\n",
        "# View the resulting data frame\n",
        "dim(squash_long)"
      ]
    },
    {
      "cell_type": "markdown",
      "id": "3b68b559-4f26-4ce7-a71b-9d0d8e3bd6a7",
      "metadata": {},
      "source": [
        "### 6.3.1 Profit from squash:"
      ]
    },
    {
      "cell_type": "code",
      "execution_count": null,
      "id": "8b68948e-601c-4cc0-96d0-f4ce4a074ef9",
      "metadata": {
        "vscode": {
          "languageId": "r"
        }
      },
      "outputs": [
        {
          "ename": "",
          "evalue": "",
          "output_type": "error",
          "traceback": [
            "\u001b[1;31mFailed to start the Kernel. \n",
            "\u001b[1;31mdyld[3726]: Library not loaded: @rpath/libreadline.6.2.dylib\n",
            "\u001b[1;31m  Referenced from: <185433D7-8B40-31AA-8BD9-465D23C57257> /opt/anaconda3/lib/R/lib/libR.dylib\n",
            "\u001b[1;31m  Reason: tried: '/opt/anaconda3/lib/R/lib/../../libreadline.6.2.dylib' (no such file), '/opt/anaconda3/lib/R/bin/exec/../../../libreadline.6.2.dylib' (no such file), '/opt/anaconda3/lib/R/bin/exec/../../../libreadline.6.2.dylib' (no such file), '/opt/anaconda3/lib/R/lib/libreadline.6.2.dylib' (no such file), '/opt/anaconda3/lib/libreadline.6.2.dylib' (no such file), '/opt/anaconda3/libreadline.6.2.dylib' (no such file). \n",
            "\u001b[1;31mView Jupyter <a href='command:jupyter.viewOutput'>log</a> for further details."
          ]
        }
      ],
      "source": [
        "ggplot(data = squash_long,\n",
        "       mapping = aes(x = price,\n",
        "                     y = profit,\n",
        "                     color = factor(yldvar),\n",
        "                     group = factor(yield))) +\n",
        "  geom_line() +\n",
        "  geom_point() +\n",
        "  geom_hline(yintercept = 0,\n",
        "             linetype = \"dashed\",\n",
        "             color = \"black\") +\n",
        "  guides(color = guide_legend(ncol = 2, \n",
        "                              reverse = TRUE))"
      ]
    },
    {
      "cell_type": "code",
      "execution_count": null,
      "id": "fd3ccc75-a0a4-4aa3-880f-40953d233fed",
      "metadata": {
        "vscode": {
          "languageId": "r"
        }
      },
      "outputs": [
        {
          "ename": "",
          "evalue": "",
          "output_type": "error",
          "traceback": [
            "\u001b[1;31mFailed to start the Kernel. \n",
            "\u001b[1;31mdyld[3726]: Library not loaded: @rpath/libreadline.6.2.dylib\n",
            "\u001b[1;31m  Referenced from: <185433D7-8B40-31AA-8BD9-465D23C57257> /opt/anaconda3/lib/R/lib/libR.dylib\n",
            "\u001b[1;31m  Reason: tried: '/opt/anaconda3/lib/R/lib/../../libreadline.6.2.dylib' (no such file), '/opt/anaconda3/lib/R/bin/exec/../../../libreadline.6.2.dylib' (no such file), '/opt/anaconda3/lib/R/bin/exec/../../../libreadline.6.2.dylib' (no such file), '/opt/anaconda3/lib/R/lib/libreadline.6.2.dylib' (no such file), '/opt/anaconda3/lib/libreadline.6.2.dylib' (no such file), '/opt/anaconda3/libreadline.6.2.dylib' (no such file). \n",
            "\u001b[1;31mView Jupyter <a href='command:jupyter.viewOutput'>log</a> for further details."
          ]
        }
      ],
      "source": [
        "ggplot(data = squash_long,\n",
        "       mapping = aes(x = yield,\n",
        "                     y = profit,\n",
        "                     color = factor(price),\n",
        "                     group = factor(price))) +\n",
        "  geom_line() +\n",
        "  geom_point() +\n",
        "  geom_hline(yintercept = 0,\n",
        "             linetype = \"dashed\",\n",
        "             color = \"black\") +\n",
        "  # Vertical dashed line is 100% yield\n",
        "    geom_vline(xintercept = squash_long$yield[11],\n",
        "             linetype = \"dashed\",\n",
        "             color = \"black\") +\n",
        "  guides(color = guide_legend(reverse = TRUE))"
      ]
    },
    {
      "cell_type": "markdown",
      "id": "390837d8-3577-4bdd-98e9-bbf08541ca5e",
      "metadata": {},
      "source": [
        "# 7. Profit from agrivoltaics\n",
        "\n",
        "Total profit from solar and crops for all combinations of AVs simulated.\n",
        "\n",
        "## 7.1 Profit from tomato agrivoltaic system\n",
        "\n",
        "-   Joint profit from tomato (tomato_long) and solar energy production\n",
        "    (solar_profit) from 1 acre of land.\n",
        "-   The last variable (tav_profit) is the final profit from tomato\n",
        "    agrivoltaic system which is the result of our interest."
      ]
    },
    {
      "cell_type": "code",
      "execution_count": null,
      "id": "67e4dc07-a27a-49c7-9cb4-3da3d99dfaaf",
      "metadata": {
        "vscode": {
          "languageId": "r"
        }
      },
      "outputs": [
        {
          "ename": "",
          "evalue": "",
          "output_type": "error",
          "traceback": [
            "\u001b[1;31mFailed to start the Kernel. \n",
            "\u001b[1;31mdyld[3726]: Library not loaded: @rpath/libreadline.6.2.dylib\n",
            "\u001b[1;31m  Referenced from: <185433D7-8B40-31AA-8BD9-465D23C57257> /opt/anaconda3/lib/R/lib/libR.dylib\n",
            "\u001b[1;31m  Reason: tried: '/opt/anaconda3/lib/R/lib/../../libreadline.6.2.dylib' (no such file), '/opt/anaconda3/lib/R/bin/exec/../../../libreadline.6.2.dylib' (no such file), '/opt/anaconda3/lib/R/bin/exec/../../../libreadline.6.2.dylib' (no such file), '/opt/anaconda3/lib/R/lib/libreadline.6.2.dylib' (no such file), '/opt/anaconda3/lib/libreadline.6.2.dylib' (no such file), '/opt/anaconda3/libreadline.6.2.dylib' (no such file). \n",
            "\u001b[1;31mView Jupyter <a href='command:jupyter.viewOutput'>log</a> for further details."
          ]
        }
      ],
      "source": [
        "# Generate all combinations of row indices from both matrices\n",
        "index_combinations <- expand.grid(1:nrow(solar_profit),\n",
        "                                  1:nrow(tomato_long))\n",
        "\n",
        "# Define a function to process each combination of indices\n",
        "process_combination <- function(indices) {\n",
        "  i <- indices[1]\n",
        "  j <- indices[2]\n",
        "  new_row <- c(solar_profit[i, ],\n",
        "               tomato_long[j, ], \n",
        "               #solar_profit[i, 14] = eannprof\n",
        "               solar_profit$eannprof[i] + tomato_long$profit[j]) \n",
        "  return(new_row)\n",
        "}\n",
        "\n",
        "# Apply the function to each combination of indices and combine the results into a matrix\n",
        "tav_profit <- do.call(rbind,\n",
        "                          lapply(\n",
        "                            seq_len(nrow(index_combinations)),\n",
        "                            function(k) {\n",
        "                              indices <- as.integer(\n",
        "                                index_combinations[k, ])\n",
        "                              process_combination(indices)\n",
        "                              }))\n",
        "\n",
        "# Optionally, you can convert the result back to a data frame if needed\n",
        "tav_profit <- as.data.frame(tav_profit) %>%\n",
        "    rename(tav_profit = V21)\n",
        "tav_profit <- data.frame(lapply(tav_profit, unlist))\n",
        "str(tav_profit)"
      ]
    },
    {
      "cell_type": "markdown",
      "id": "4499e606-1835-4df7-a248-4a90e1cb7397",
      "metadata": {},
      "source": [
        "### 7.1.1 Saving results locally"
      ]
    },
    {
      "cell_type": "code",
      "execution_count": null,
      "id": "17c83e21-f3b1-47e9-aed9-a1854bad821c",
      "metadata": {
        "vscode": {
          "languageId": "r"
        }
      },
      "outputs": [
        {
          "ename": "",
          "evalue": "",
          "output_type": "error",
          "traceback": [
            "\u001b[1;31mFailed to start the Kernel. \n",
            "\u001b[1;31mdyld[3726]: Library not loaded: @rpath/libreadline.6.2.dylib\n",
            "\u001b[1;31m  Referenced from: <185433D7-8B40-31AA-8BD9-465D23C57257> /opt/anaconda3/lib/R/lib/libR.dylib\n",
            "\u001b[1;31m  Reason: tried: '/opt/anaconda3/lib/R/lib/../../libreadline.6.2.dylib' (no such file), '/opt/anaconda3/lib/R/bin/exec/../../../libreadline.6.2.dylib' (no such file), '/opt/anaconda3/lib/R/bin/exec/../../../libreadline.6.2.dylib' (no such file), '/opt/anaconda3/lib/R/lib/libreadline.6.2.dylib' (no such file), '/opt/anaconda3/lib/libreadline.6.2.dylib' (no such file), '/opt/anaconda3/libreadline.6.2.dylib' (no such file). \n",
            "\u001b[1;31mView Jupyter <a href='command:jupyter.viewOutput'>log</a> for further details."
          ]
        }
      ],
      "source": [
        "#write_csv(tav_profit, \"tav_profit.csv\")\n",
        "write_feather(tav_profit,\n",
        "  sink = \"tav_profit.feather\",\n",
        "  version = 2,\n",
        "  chunk_size = 65536L,\n",
        "  compression = c(\"default\"),\n",
        "  #compression = c(\"default\", \"lz4\", \"lz4_frame\", \"uncompressed\", \"zstd\"),\n",
        "  compression_level = NULL\n",
        ")"
      ]
    },
    {
      "cell_type": "markdown",
      "id": "43c60c7a-e30e-4b27-8410-5b23ff95d5b6",
      "metadata": {},
      "source": [
        "## 7.2 Profit from strawberry agrivoltaic system\n",
        "\n",
        "-   Joint profit from strawberry (stberry_long) and solar energy\n",
        "    production (solar_profit) from 1 acre of land.\n",
        "-   The last variable (sbav_profit) is the final profit from strawberry\n",
        "    agrivoltaic system which is the result of our interest."
      ]
    },
    {
      "cell_type": "code",
      "execution_count": null,
      "id": "33502855-4ae2-42bb-9ff1-b0b8d67b30e3",
      "metadata": {
        "vscode": {
          "languageId": "r"
        }
      },
      "outputs": [
        {
          "ename": "",
          "evalue": "",
          "output_type": "error",
          "traceback": [
            "\u001b[1;31mFailed to start the Kernel. \n",
            "\u001b[1;31mdyld[3726]: Library not loaded: @rpath/libreadline.6.2.dylib\n",
            "\u001b[1;31m  Referenced from: <185433D7-8B40-31AA-8BD9-465D23C57257> /opt/anaconda3/lib/R/lib/libR.dylib\n",
            "\u001b[1;31m  Reason: tried: '/opt/anaconda3/lib/R/lib/../../libreadline.6.2.dylib' (no such file), '/opt/anaconda3/lib/R/bin/exec/../../../libreadline.6.2.dylib' (no such file), '/opt/anaconda3/lib/R/bin/exec/../../../libreadline.6.2.dylib' (no such file), '/opt/anaconda3/lib/R/lib/libreadline.6.2.dylib' (no such file), '/opt/anaconda3/lib/libreadline.6.2.dylib' (no such file), '/opt/anaconda3/libreadline.6.2.dylib' (no such file). \n",
            "\u001b[1;31mView Jupyter <a href='command:jupyter.viewOutput'>log</a> for further details."
          ]
        }
      ],
      "source": [
        "# Generate all combinations of row indices from both matrices\n",
        "index_combinations <- expand.grid(1:nrow(solar_profit),\n",
        "                                  1:nrow(stberry_long))\n",
        "\n",
        "# Define a function to process each combination of indices\n",
        "process_combination <- function(indices) {\n",
        "  i <- indices[1]\n",
        "  j <- indices[2]\n",
        "  new_row <- c(solar_profit[i, ],\n",
        "               stberry_long[j, ], \n",
        "               #solar_profit[i, 14] = eannprof\n",
        "               solar_profit$eannprof[i] + stberry_long$profit[j])\n",
        "  return(new_row)\n",
        "}\n",
        "\n",
        "# Apply the function to each combination of indices and combine the results into a matrix\n",
        "sbav_profit <- do.call(rbind, \n",
        "                          lapply(\n",
        "                            seq_len(nrow(index_combinations)),\n",
        "                            function(k) {\n",
        "                              indices <- as.integer(\n",
        "                                index_combinations[k, ])\n",
        "                              process_combination(indices)\n",
        "                              }))\n",
        "\n",
        "# Optionally, you can convert the result back to a data frame if needed\n",
        "sbav_profit <- as.data.frame(sbav_profit) %>%\n",
        "  rename(sbav_profit = V21)\n",
        "sbav_profit <- data.frame(lapply(sbav_profit, unlist))\n",
        "str(sbav_profit)"
      ]
    },
    {
      "cell_type": "markdown",
      "id": "9ec8e40b-3287-430c-99d0-3787e6b5a7f0",
      "metadata": {},
      "source": [
        "### 7.2.1 Saving results locally"
      ]
    },
    {
      "cell_type": "code",
      "execution_count": null,
      "id": "6855a9e4-8f72-4823-a6e5-61f3f1fea0cc",
      "metadata": {
        "vscode": {
          "languageId": "r"
        }
      },
      "outputs": [
        {
          "ename": "",
          "evalue": "",
          "output_type": "error",
          "traceback": [
            "\u001b[1;31mFailed to start the Kernel. \n",
            "\u001b[1;31mdyld[3726]: Library not loaded: @rpath/libreadline.6.2.dylib\n",
            "\u001b[1;31m  Referenced from: <185433D7-8B40-31AA-8BD9-465D23C57257> /opt/anaconda3/lib/R/lib/libR.dylib\n",
            "\u001b[1;31m  Reason: tried: '/opt/anaconda3/lib/R/lib/../../libreadline.6.2.dylib' (no such file), '/opt/anaconda3/lib/R/bin/exec/../../../libreadline.6.2.dylib' (no such file), '/opt/anaconda3/lib/R/bin/exec/../../../libreadline.6.2.dylib' (no such file), '/opt/anaconda3/lib/R/lib/libreadline.6.2.dylib' (no such file), '/opt/anaconda3/lib/libreadline.6.2.dylib' (no such file), '/opt/anaconda3/libreadline.6.2.dylib' (no such file). \n",
            "\u001b[1;31mView Jupyter <a href='command:jupyter.viewOutput'>log</a> for further details."
          ]
        }
      ],
      "source": [
        "#write_csv(sbav_profit, \"tav_profit.csv\")\n",
        "write_feather(sbav_profit,\n",
        "  sink = \"sbav_profit.feather\",\n",
        "  version = 2,\n",
        "  chunk_size = 65536L,\n",
        "  compression = c(\"default\"),\n",
        "  #compression = c(\"default\", \"lz4\", \"lz4_frame\", \"uncompressed\", \"zstd\"),\n",
        "  compression_level = NULL\n",
        ")"
      ]
    },
    {
      "cell_type": "markdown",
      "id": "d7f030b7-03f3-4e85-930c-38975444dc71",
      "metadata": {},
      "source": [
        "## 7.3 Profit from squash agrivoltaic system\n",
        "\n",
        "-   Joint profit from squash (squash_long) and solar energy production\n",
        "    (solar_profit) from 1 acre of land.\n",
        "-   The last variable (sqav_profit) is the final profit from squash\n",
        "    agrivoltaic system which is the result of our interest."
      ]
    },
    {
      "cell_type": "code",
      "execution_count": null,
      "id": "b0e375b1-e087-4799-b79c-c8c3125c3797",
      "metadata": {
        "vscode": {
          "languageId": "r"
        }
      },
      "outputs": [
        {
          "ename": "",
          "evalue": "",
          "output_type": "error",
          "traceback": [
            "\u001b[1;31mFailed to start the Kernel. \n",
            "\u001b[1;31mdyld[3726]: Library not loaded: @rpath/libreadline.6.2.dylib\n",
            "\u001b[1;31m  Referenced from: <185433D7-8B40-31AA-8BD9-465D23C57257> /opt/anaconda3/lib/R/lib/libR.dylib\n",
            "\u001b[1;31m  Reason: tried: '/opt/anaconda3/lib/R/lib/../../libreadline.6.2.dylib' (no such file), '/opt/anaconda3/lib/R/bin/exec/../../../libreadline.6.2.dylib' (no such file), '/opt/anaconda3/lib/R/bin/exec/../../../libreadline.6.2.dylib' (no such file), '/opt/anaconda3/lib/R/lib/libreadline.6.2.dylib' (no such file), '/opt/anaconda3/lib/libreadline.6.2.dylib' (no such file), '/opt/anaconda3/libreadline.6.2.dylib' (no such file). \n",
            "\u001b[1;31mView Jupyter <a href='command:jupyter.viewOutput'>log</a> for further details."
          ]
        }
      ],
      "source": [
        "# Generate all combinations of row indices from both matrices\n",
        "index_combinations <- expand.grid(1:nrow(solar_profit),\n",
        "                                  1:nrow(squash_long))\n",
        "\n",
        "# Define a function to process each combination of indices\n",
        "process_combination <- function(indices) {\n",
        "  i <- indices[1]\n",
        "  j <- indices[2]\n",
        "  new_row <- c(solar_profit[i, ],\n",
        "               squash_long[j, ],\n",
        "               #solar_profit[i, 14] = eannprof\n",
        "               solar_profit$eannprof[i] + squash_long$profit[j])\n",
        "  return(new_row)\n",
        "}\n",
        "\n",
        "# Apply the function to each combination of indices and combine the results into a matrix\n",
        "sqav_profit <- do.call(rbind, \n",
        "                          lapply(\n",
        "                            seq_len(nrow(index_combinations)),\n",
        "                            function(k) {\n",
        "                              indices <- as.integer(\n",
        "                                index_combinations[k, ])\n",
        "                              process_combination(indices)\n",
        "                              }))\n",
        "\n",
        "# Optionally, you can convert the result back to a data frame if needed\n",
        "sqav_profit <- as.data.frame(sqav_profit) %>%\n",
        "  rename(sqav_profit = V21)\n",
        "sqav_profit <- data.frame(lapply(sqav_profit, unlist))\n",
        "str(sqav_profit)"
      ]
    },
    {
      "cell_type": "markdown",
      "id": "195fa34b-68da-4db8-8718-c10601953078",
      "metadata": {},
      "source": [
        "### 7.3.1 Saving results locally"
      ]
    },
    {
      "cell_type": "code",
      "execution_count": null,
      "id": "c102d228-136c-4956-bbbe-e6ecbb93a27b",
      "metadata": {
        "vscode": {
          "languageId": "r"
        }
      },
      "outputs": [
        {
          "ename": "",
          "evalue": "",
          "output_type": "error",
          "traceback": [
            "\u001b[1;31mFailed to start the Kernel. \n",
            "\u001b[1;31mdyld[3726]: Library not loaded: @rpath/libreadline.6.2.dylib\n",
            "\u001b[1;31m  Referenced from: <185433D7-8B40-31AA-8BD9-465D23C57257> /opt/anaconda3/lib/R/lib/libR.dylib\n",
            "\u001b[1;31m  Reason: tried: '/opt/anaconda3/lib/R/lib/../../libreadline.6.2.dylib' (no such file), '/opt/anaconda3/lib/R/bin/exec/../../../libreadline.6.2.dylib' (no such file), '/opt/anaconda3/lib/R/bin/exec/../../../libreadline.6.2.dylib' (no such file), '/opt/anaconda3/lib/R/lib/libreadline.6.2.dylib' (no such file), '/opt/anaconda3/lib/libreadline.6.2.dylib' (no such file), '/opt/anaconda3/libreadline.6.2.dylib' (no such file). \n",
            "\u001b[1;31mView Jupyter <a href='command:jupyter.viewOutput'>log</a> for further details."
          ]
        }
      ],
      "source": [
        "#write_csv(sqav_profit, \"tav_profit.csv\")\n",
        "write_feather(sqav_profit,\n",
        "  sink = \"sqav_profit.feather\",\n",
        "  version = 2,\n",
        "  chunk_size = 65536L,\n",
        "  compression = c(\"default\"),\n",
        "  #compression = c(\"default\", \"lz4\", \"lz4_frame\", \"uncompressed\", \"zstd\"),\n",
        "  compression_level = NULL\n",
        ")"
      ]
    }
  ],
  "metadata": {
    "kernelspec": {
      "display_name": "R",
      "language": "R",
      "name": "ir"
    },
    "language_info": {
      "name": "R",
      "version": "3.12.4"
    }
  },
  "nbformat": 4,
  "nbformat_minor": 5
}
